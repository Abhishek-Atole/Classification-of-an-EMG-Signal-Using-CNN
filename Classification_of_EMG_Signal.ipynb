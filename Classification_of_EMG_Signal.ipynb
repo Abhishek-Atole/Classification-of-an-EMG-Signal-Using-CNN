{
  "cells": [
    {
      "cell_type": "markdown",
      "metadata": {
        "id": "rMwlpoNYcNG7"
      },
      "source": [
        "# ***List of the commands to debug the code ***\n",
        "\n",
        "1.   h(elp) Show a list of commands, or find help on a specific command\n",
        "2.   q(uit) Quit the debugger and the program\n",
        "\n",
        "1.   c(ontinue) Quit the debugger, continue in the program\n",
        "\n",
        "1.   n(ext) Go to the next step of the program\n",
        "\n",
        "1.   Repeat the previous command\n",
        "\n",
        "1.   p(rint) Print variables\n",
        "2.   s(tep) Step into a subroutine\n",
        "\n",
        "1.   r(eturn) Return out of a subroutine\n",
        "\n",
        "\n",
        "\n"
      ]
    },
    {
      "cell_type": "markdown",
      "metadata": {
        "id": "rO57Vb8j9hRJ"
      },
      "source": [
        "#*****Code To Download The Dataset From Kaggel*****\n"
      ]
    },
    {
      "cell_type": "code",
      "execution_count": 2,
      "metadata": {
        "colab": {
          "base_uri": "https://localhost:8080/"
        },
        "id": "PyOSUtfn7SiP",
        "outputId": "9a58365f-df12-49f0-fcb6-2d14821994ea"
      },
      "outputs": [
        {
          "ename": "PermissionError",
          "evalue": "[Errno 13] Permission denied: '/kaggle'",
          "output_type": "error",
          "traceback": [
            "\u001b[0;31m---------------------------------------------------------------------------\u001b[0m",
            "\u001b[0;31mPermissionError\u001b[0m                           Traceback (most recent call last)",
            "\u001b[1;32m/updated_final_year_project.ipynb Cell 3\u001b[0m line \u001b[0;36m2\n\u001b[1;32m     <a href='vscode-notebook-cell:/updated_final_year_project.ipynb#W2sZmlsZQ%3D%3D?line=24'>25</a>\u001b[0m get_ipython()\u001b[39m.\u001b[39msystem(\u001b[39m'\u001b[39m\u001b[39mumount /kaggle/input/ 2> /dev/null\u001b[39m\u001b[39m'\u001b[39m)\n\u001b[1;32m     <a href='vscode-notebook-cell:/updated_final_year_project.ipynb#W2sZmlsZQ%3D%3D?line=25'>26</a>\u001b[0m shutil\u001b[39m.\u001b[39mrmtree(\u001b[39m'\u001b[39m\u001b[39m/kaggle/input\u001b[39m\u001b[39m'\u001b[39m, ignore_errors\u001b[39m=\u001b[39m\u001b[39mTrue\u001b[39;00m)\n\u001b[0;32m---> <a href='vscode-notebook-cell:/updated_final_year_project.ipynb#W2sZmlsZQ%3D%3D?line=26'>27</a>\u001b[0m os\u001b[39m.\u001b[39;49mmakedirs(KAGGLE_INPUT_PATH, \u001b[39m0o777\u001b[39;49m, exist_ok\u001b[39m=\u001b[39;49m\u001b[39mTrue\u001b[39;49;00m)\n\u001b[1;32m     <a href='vscode-notebook-cell:/updated_final_year_project.ipynb#W2sZmlsZQ%3D%3D?line=27'>28</a>\u001b[0m os\u001b[39m.\u001b[39mmakedirs(KAGGLE_WORKING_PATH, \u001b[39m0o777\u001b[39m, exist_ok\u001b[39m=\u001b[39m\u001b[39mTrue\u001b[39;00m)\n\u001b[1;32m     <a href='vscode-notebook-cell:/updated_final_year_project.ipynb#W2sZmlsZQ%3D%3D?line=29'>30</a>\u001b[0m \u001b[39mtry\u001b[39;00m:\n",
            "File \u001b[0;32m<frozen os>:215\u001b[0m, in \u001b[0;36mmakedirs\u001b[0;34m(name, mode, exist_ok)\u001b[0m\n",
            "File \u001b[0;32m<frozen os>:225\u001b[0m, in \u001b[0;36mmakedirs\u001b[0;34m(name, mode, exist_ok)\u001b[0m\n",
            "\u001b[0;31mPermissionError\u001b[0m: [Errno 13] Permission denied: '/kaggle'"
          ]
        }
      ],
      "source": [
        "\n",
        "# IMPORTANT: RUN THIS CELL IN ORDER TO IMPORT YOUR KAGGLE DATA SOURCES\n",
        "# TO THE CORRECT LOCATION (/kaggle/input) IN YOUR NOTEBOOK,\n",
        "# THEN FEEL FREE TO DELETE THIS CELL.\n",
        "# NOTE: THIS NOTEBOOK ENVIRONMENT DIFFERS FROM KAGGLE'S PYTHON\n",
        "# ENVIRONMENT SO THERE MAY BE MISSING LIBRARIES USED BY YOUR\n",
        "# NOTEBOOK.\n",
        "\n",
        "import os\n",
        "import sys\n",
        "from tempfile import NamedTemporaryFile\n",
        "from urllib.request import urlopen\n",
        "from urllib.parse import unquote, urlparse\n",
        "from urllib.error import HTTPError\n",
        "from zipfile import ZipFile\n",
        "import tarfile\n",
        "import shutil\n",
        "\n",
        "CHUNK_SIZE = 40960\n",
        "DATA_SOURCE_MAPPING = 'emg-signal-for-gesture-recognition:https%3A%2F%2Fstorage.googleapis.com%2Fkaggle-data-sets%2F756231%2F1306261%2Fbundle%2Farchive.zip%3FX-Goog-Algorithm%3DGOOG4-RSA-SHA256%26X-Goog-Credential%3Dgcp-kaggle-com%2540kaggle-161607.iam.gserviceaccount.com%252F20240312%252Fauto%252Fstorage%252Fgoog4_request%26X-Goog-Date%3D20240312T165802Z%26X-Goog-Expires%3D259200%26X-Goog-SignedHeaders%3Dhost%26X-Goog-Signature%3D7d7c215e91a64ad0cc324c012a796bfe22be0f2bacae07fd1cadde99528b6535531c300dd8c54a9034b14429e2ea24629619b5c8244a64191b41e019c4bb3e44fefa000b5cc0f63c09f5d78d6bad91614264aeb3fb3b1a5206c2d65727715f8a62cb0f86ae704834d61c4f3c0a156d9e37e3dccc986929e6931b48be2c54ca4b2a5105dc596585f1824c9e09a14a63765ac7fbfe643211682760a6a3fb82e450bde68ed5e057d1c28b36e9c50e4ea39f9ec303266007d9fbe34c8a695dd6e2954a93141e224dda5355bc4e67315cc99dba0114f65e081b16e0dfef1522372865f3f0092ca04300db28b7d0d1f0bd097fac72bf3e0a90d09c28210f9788fba404'\n",
        "\n",
        "KAGGLE_INPUT_PATH='/kaggle/input'\n",
        "KAGGLE_WORKING_PATH='/kaggle/working'\n",
        "KAGGLE_SYMLINK='kaggle'\n",
        "\n",
        "!umount /kaggle/input/ 2> /dev/null\n",
        "shutil.rmtree('/kaggle/input', ignore_errors=True)\n",
        "os.makedirs(KAGGLE_INPUT_PATH, 0o777, exist_ok=True)\n",
        "os.makedirs(KAGGLE_WORKING_PATH, 0o777, exist_ok=True)\n",
        "\n",
        "try:\n",
        "  os.symlink(KAGGLE_INPUT_PATH, os.path.join(\"..\", 'input'), target_is_directory=True)\n",
        "except FileExistsError:\n",
        "  pass\n",
        "try:\n",
        "  os.symlink(KAGGLE_WORKING_PATH, os.path.join(\"..\", 'working'), target_is_directory=True)\n",
        "except FileExistsError:\n",
        "  pass\n",
        "\n",
        "for data_source_mapping in DATA_SOURCE_MAPPING.split(','):\n",
        "    directory, download_url_encoded = data_source_mapping.split(':')\n",
        "    download_url = unquote(download_url_encoded)\n",
        "    filename = urlparse(download_url).path\n",
        "    destination_path = os.path.join(KAGGLE_INPUT_PATH, directory)\n",
        "    try:\n",
        "        with urlopen(download_url) as fileres, NamedTemporaryFile() as tfile:\n",
        "            total_length = fileres.headers['content-length']\n",
        "            print(f'Downloading {directory}, {total_length} bytes compressed')\n",
        "            dl = 0\n",
        "            data = fileres.read(CHUNK_SIZE)\n",
        "            while len(data) > 0:\n",
        "                dl += len(data)\n",
        "                tfile.write(data)\n",
        "                done = int(50 * dl / int(total_length))\n",
        "                sys.stdout.write(f\"\\r[{'=' * done}{' ' * (50-done)}] {dl} bytes downloaded\")\n",
        "                sys.stdout.flush()\n",
        "                data = fileres.read(CHUNK_SIZE)\n",
        "            if filename.endswith('.zip'):\n",
        "              with ZipFile(tfile) as zfile:\n",
        "                zfile.extractall(destination_path)\n",
        "            else:\n",
        "              with tarfile.open(tfile.name) as tarfile:\n",
        "                tarfile.extractall(destination_path)\n",
        "            print(f'\\nDownloaded and uncompressed: {directory}')\n",
        "    except HTTPError as e:\n",
        "        print(f'Failed to load (likely expired) {download_url} to path {destination_path}')\n",
        "        continue\n",
        "    except OSError as e:\n",
        "        print(f'Failed to load {download_url} to path {destination_path}')\n",
        "        continue\n",
        "\n",
        "print('Data source import complete.')\n"
      ]
    },
    {
      "cell_type": "markdown",
      "metadata": {
        "id": "99C7kGMN-_TN"
      },
      "source": [
        "#***Necessary libraries***"
      ]
    },
    {
      "cell_type": "code",
      "execution_count": null,
      "metadata": {
        "id": "wVqsEaqzmb_5"
      },
      "outputs": [],
      "source": [
        "import pandas as pd\n",
        "import random\n",
        "import csv\n",
        "import numpy as np\n",
        "import pdb"
      ]
    },
    {
      "cell_type": "markdown",
      "metadata": {
        "id": "HjWB9nVF_Kue"
      },
      "source": [
        "#**Reading EMG Data from CSV**"
      ]
    },
    {
      "cell_type": "code",
      "execution_count": null,
      "metadata": {
        "id": "L2L281Ddmb_7"
      },
      "outputs": [],
      "source": [
        "project_dataset_dir = '/kaggle/input/emg-signal-for-gesture-recognition/EMG-data.csv'\n",
        "df = pd.read_csv(project_dataset_dir)        #the CSV file is loaded as 'df'"
      ]
    },
    {
      "cell_type": "code",
      "execution_count": null,
      "metadata": {
        "colab": {
          "base_uri": "https://localhost:8080/"
        },
        "id": "S8mASUQemb_8",
        "outputId": "c7edcf45-e843-4572-f6c5-3d68c93426de"
      },
      "outputs": [
        {
          "name": "stdout",
          "output_type": "stream",
          "text": [
            "<class 'pandas.core.frame.DataFrame'>\n",
            "RangeIndex: 4237907 entries, 0 to 4237906\n",
            "Data columns (total 11 columns):\n",
            " #   Column    Dtype  \n",
            "---  ------    -----  \n",
            " 0   time      int64  \n",
            " 1   channel1  float64\n",
            " 2   channel2  float64\n",
            " 3   channel3  float64\n",
            " 4   channel4  float64\n",
            " 5   channel5  float64\n",
            " 6   channel6  float64\n",
            " 7   channel7  float64\n",
            " 8   channel8  float64\n",
            " 9   class     int64  \n",
            " 10  label     int64  \n",
            "dtypes: float64(8), int64(3)\n",
            "memory usage: 355.7 MB\n"
          ]
        }
      ],
      "source": [
        "df.info()  # Print information about the DataFrame"
      ]
    },
    {
      "cell_type": "code",
      "execution_count": null,
      "metadata": {
        "colab": {
          "base_uri": "https://localhost:8080/",
          "height": 206
        },
        "id": "QgKCcC63mb_-",
        "outputId": "82d58c22-1697-4e58-a0e2-b0f659015b6a"
      },
      "outputs": [
        {
          "data": {
            "application/vnd.google.colaboratory.intrinsic+json": {
              "type": "dataframe",
              "variable_name": "df"
            },
            "text/html": [
              "\n",
              "  <div id=\"df-2cb156b3-f445-4981-af1d-0cd1e8361874\" class=\"colab-df-container\">\n",
              "    <div>\n",
              "<style scoped>\n",
              "    .dataframe tbody tr th:only-of-type {\n",
              "        vertical-align: middle;\n",
              "    }\n",
              "\n",
              "    .dataframe tbody tr th {\n",
              "        vertical-align: top;\n",
              "    }\n",
              "\n",
              "    .dataframe thead th {\n",
              "        text-align: right;\n",
              "    }\n",
              "</style>\n",
              "<table border=\"1\" class=\"dataframe\">\n",
              "  <thead>\n",
              "    <tr style=\"text-align: right;\">\n",
              "      <th></th>\n",
              "      <th>channel1</th>\n",
              "      <th>channel2</th>\n",
              "      <th>channel3</th>\n",
              "      <th>channel4</th>\n",
              "      <th>channel5</th>\n",
              "      <th>channel6</th>\n",
              "      <th>channel7</th>\n",
              "      <th>channel8</th>\n",
              "      <th>class</th>\n",
              "      <th>label</th>\n",
              "    </tr>\n",
              "  </thead>\n",
              "  <tbody>\n",
              "    <tr>\n",
              "      <th>0</th>\n",
              "      <td>0.00001</td>\n",
              "      <td>-0.00002</td>\n",
              "      <td>-0.00001</td>\n",
              "      <td>-0.00003</td>\n",
              "      <td>0.00000</td>\n",
              "      <td>-0.00001</td>\n",
              "      <td>0.00000</td>\n",
              "      <td>-0.00001</td>\n",
              "      <td>0</td>\n",
              "      <td>1</td>\n",
              "    </tr>\n",
              "    <tr>\n",
              "      <th>1</th>\n",
              "      <td>0.00001</td>\n",
              "      <td>-0.00002</td>\n",
              "      <td>-0.00001</td>\n",
              "      <td>-0.00003</td>\n",
              "      <td>0.00000</td>\n",
              "      <td>-0.00001</td>\n",
              "      <td>0.00000</td>\n",
              "      <td>-0.00001</td>\n",
              "      <td>0</td>\n",
              "      <td>1</td>\n",
              "    </tr>\n",
              "    <tr>\n",
              "      <th>2</th>\n",
              "      <td>-0.00001</td>\n",
              "      <td>0.00001</td>\n",
              "      <td>0.00002</td>\n",
              "      <td>0.00000</td>\n",
              "      <td>0.00001</td>\n",
              "      <td>-0.00002</td>\n",
              "      <td>-0.00001</td>\n",
              "      <td>0.00001</td>\n",
              "      <td>0</td>\n",
              "      <td>1</td>\n",
              "    </tr>\n",
              "    <tr>\n",
              "      <th>3</th>\n",
              "      <td>-0.00001</td>\n",
              "      <td>0.00001</td>\n",
              "      <td>0.00002</td>\n",
              "      <td>0.00000</td>\n",
              "      <td>0.00001</td>\n",
              "      <td>-0.00002</td>\n",
              "      <td>-0.00001</td>\n",
              "      <td>0.00001</td>\n",
              "      <td>0</td>\n",
              "      <td>1</td>\n",
              "    </tr>\n",
              "    <tr>\n",
              "      <th>4</th>\n",
              "      <td>-0.00001</td>\n",
              "      <td>0.00001</td>\n",
              "      <td>0.00002</td>\n",
              "      <td>0.00000</td>\n",
              "      <td>0.00001</td>\n",
              "      <td>-0.00002</td>\n",
              "      <td>-0.00001</td>\n",
              "      <td>0.00001</td>\n",
              "      <td>0</td>\n",
              "      <td>1</td>\n",
              "    </tr>\n",
              "  </tbody>\n",
              "</table>\n",
              "</div>\n",
              "    <div class=\"colab-df-buttons\">\n",
              "\n",
              "  <div class=\"colab-df-container\">\n",
              "    <button class=\"colab-df-convert\" onclick=\"convertToInteractive('df-2cb156b3-f445-4981-af1d-0cd1e8361874')\"\n",
              "            title=\"Convert this dataframe to an interactive table.\"\n",
              "            style=\"display:none;\">\n",
              "\n",
              "  <svg xmlns=\"http://www.w3.org/2000/svg\" height=\"24px\" viewBox=\"0 -960 960 960\">\n",
              "    <path d=\"M120-120v-720h720v720H120Zm60-500h600v-160H180v160Zm220 220h160v-160H400v160Zm0 220h160v-160H400v160ZM180-400h160v-160H180v160Zm440 0h160v-160H620v160ZM180-180h160v-160H180v160Zm440 0h160v-160H620v160Z\"/>\n",
              "  </svg>\n",
              "    </button>\n",
              "\n",
              "  <style>\n",
              "    .colab-df-container {\n",
              "      display:flex;\n",
              "      gap: 12px;\n",
              "    }\n",
              "\n",
              "    .colab-df-convert {\n",
              "      background-color: #E8F0FE;\n",
              "      border: none;\n",
              "      border-radius: 50%;\n",
              "      cursor: pointer;\n",
              "      display: none;\n",
              "      fill: #1967D2;\n",
              "      height: 32px;\n",
              "      padding: 0 0 0 0;\n",
              "      width: 32px;\n",
              "    }\n",
              "\n",
              "    .colab-df-convert:hover {\n",
              "      background-color: #E2EBFA;\n",
              "      box-shadow: 0px 1px 2px rgba(60, 64, 67, 0.3), 0px 1px 3px 1px rgba(60, 64, 67, 0.15);\n",
              "      fill: #174EA6;\n",
              "    }\n",
              "\n",
              "    .colab-df-buttons div {\n",
              "      margin-bottom: 4px;\n",
              "    }\n",
              "\n",
              "    [theme=dark] .colab-df-convert {\n",
              "      background-color: #3B4455;\n",
              "      fill: #D2E3FC;\n",
              "    }\n",
              "\n",
              "    [theme=dark] .colab-df-convert:hover {\n",
              "      background-color: #434B5C;\n",
              "      box-shadow: 0px 1px 3px 1px rgba(0, 0, 0, 0.15);\n",
              "      filter: drop-shadow(0px 1px 2px rgba(0, 0, 0, 0.3));\n",
              "      fill: #FFFFFF;\n",
              "    }\n",
              "  </style>\n",
              "\n",
              "    <script>\n",
              "      const buttonEl =\n",
              "        document.querySelector('#df-2cb156b3-f445-4981-af1d-0cd1e8361874 button.colab-df-convert');\n",
              "      buttonEl.style.display =\n",
              "        google.colab.kernel.accessAllowed ? 'block' : 'none';\n",
              "\n",
              "      async function convertToInteractive(key) {\n",
              "        const element = document.querySelector('#df-2cb156b3-f445-4981-af1d-0cd1e8361874');\n",
              "        const dataTable =\n",
              "          await google.colab.kernel.invokeFunction('convertToInteractive',\n",
              "                                                    [key], {});\n",
              "        if (!dataTable) return;\n",
              "\n",
              "        const docLinkHtml = 'Like what you see? Visit the ' +\n",
              "          '<a target=\"_blank\" href=https://colab.research.google.com/notebooks/data_table.ipynb>data table notebook</a>'\n",
              "          + ' to learn more about interactive tables.';\n",
              "        element.innerHTML = '';\n",
              "        dataTable['output_type'] = 'display_data';\n",
              "        await google.colab.output.renderOutput(dataTable, element);\n",
              "        const docLink = document.createElement('div');\n",
              "        docLink.innerHTML = docLinkHtml;\n",
              "        element.appendChild(docLink);\n",
              "      }\n",
              "    </script>\n",
              "  </div>\n",
              "\n",
              "\n",
              "<div id=\"df-b3e4df65-ff31-4980-994f-7cbef2446b14\">\n",
              "  <button class=\"colab-df-quickchart\" onclick=\"quickchart('df-b3e4df65-ff31-4980-994f-7cbef2446b14')\"\n",
              "            title=\"Suggest charts\"\n",
              "            style=\"display:none;\">\n",
              "\n",
              "<svg xmlns=\"http://www.w3.org/2000/svg\" height=\"24px\"viewBox=\"0 0 24 24\"\n",
              "     width=\"24px\">\n",
              "    <g>\n",
              "        <path d=\"M19 3H5c-1.1 0-2 .9-2 2v14c0 1.1.9 2 2 2h14c1.1 0 2-.9 2-2V5c0-1.1-.9-2-2-2zM9 17H7v-7h2v7zm4 0h-2V7h2v10zm4 0h-2v-4h2v4z\"/>\n",
              "    </g>\n",
              "</svg>\n",
              "  </button>\n",
              "\n",
              "<style>\n",
              "  .colab-df-quickchart {\n",
              "      --bg-color: #E8F0FE;\n",
              "      --fill-color: #1967D2;\n",
              "      --hover-bg-color: #E2EBFA;\n",
              "      --hover-fill-color: #174EA6;\n",
              "      --disabled-fill-color: #AAA;\n",
              "      --disabled-bg-color: #DDD;\n",
              "  }\n",
              "\n",
              "  [theme=dark] .colab-df-quickchart {\n",
              "      --bg-color: #3B4455;\n",
              "      --fill-color: #D2E3FC;\n",
              "      --hover-bg-color: #434B5C;\n",
              "      --hover-fill-color: #FFFFFF;\n",
              "      --disabled-bg-color: #3B4455;\n",
              "      --disabled-fill-color: #666;\n",
              "  }\n",
              "\n",
              "  .colab-df-quickchart {\n",
              "    background-color: var(--bg-color);\n",
              "    border: none;\n",
              "    border-radius: 50%;\n",
              "    cursor: pointer;\n",
              "    display: none;\n",
              "    fill: var(--fill-color);\n",
              "    height: 32px;\n",
              "    padding: 0;\n",
              "    width: 32px;\n",
              "  }\n",
              "\n",
              "  .colab-df-quickchart:hover {\n",
              "    background-color: var(--hover-bg-color);\n",
              "    box-shadow: 0 1px 2px rgba(60, 64, 67, 0.3), 0 1px 3px 1px rgba(60, 64, 67, 0.15);\n",
              "    fill: var(--button-hover-fill-color);\n",
              "  }\n",
              "\n",
              "  .colab-df-quickchart-complete:disabled,\n",
              "  .colab-df-quickchart-complete:disabled:hover {\n",
              "    background-color: var(--disabled-bg-color);\n",
              "    fill: var(--disabled-fill-color);\n",
              "    box-shadow: none;\n",
              "  }\n",
              "\n",
              "  .colab-df-spinner {\n",
              "    border: 2px solid var(--fill-color);\n",
              "    border-color: transparent;\n",
              "    border-bottom-color: var(--fill-color);\n",
              "    animation:\n",
              "      spin 1s steps(1) infinite;\n",
              "  }\n",
              "\n",
              "  @keyframes spin {\n",
              "    0% {\n",
              "      border-color: transparent;\n",
              "      border-bottom-color: var(--fill-color);\n",
              "      border-left-color: var(--fill-color);\n",
              "    }\n",
              "    20% {\n",
              "      border-color: transparent;\n",
              "      border-left-color: var(--fill-color);\n",
              "      border-top-color: var(--fill-color);\n",
              "    }\n",
              "    30% {\n",
              "      border-color: transparent;\n",
              "      border-left-color: var(--fill-color);\n",
              "      border-top-color: var(--fill-color);\n",
              "      border-right-color: var(--fill-color);\n",
              "    }\n",
              "    40% {\n",
              "      border-color: transparent;\n",
              "      border-right-color: var(--fill-color);\n",
              "      border-top-color: var(--fill-color);\n",
              "    }\n",
              "    60% {\n",
              "      border-color: transparent;\n",
              "      border-right-color: var(--fill-color);\n",
              "    }\n",
              "    80% {\n",
              "      border-color: transparent;\n",
              "      border-right-color: var(--fill-color);\n",
              "      border-bottom-color: var(--fill-color);\n",
              "    }\n",
              "    90% {\n",
              "      border-color: transparent;\n",
              "      border-bottom-color: var(--fill-color);\n",
              "    }\n",
              "  }\n",
              "</style>\n",
              "\n",
              "  <script>\n",
              "    async function quickchart(key) {\n",
              "      const quickchartButtonEl =\n",
              "        document.querySelector('#' + key + ' button');\n",
              "      quickchartButtonEl.disabled = true;  // To prevent multiple clicks.\n",
              "      quickchartButtonEl.classList.add('colab-df-spinner');\n",
              "      try {\n",
              "        const charts = await google.colab.kernel.invokeFunction(\n",
              "            'suggestCharts', [key], {});\n",
              "      } catch (error) {\n",
              "        console.error('Error during call to suggestCharts:', error);\n",
              "      }\n",
              "      quickchartButtonEl.classList.remove('colab-df-spinner');\n",
              "      quickchartButtonEl.classList.add('colab-df-quickchart-complete');\n",
              "    }\n",
              "    (() => {\n",
              "      let quickchartButtonEl =\n",
              "        document.querySelector('#df-b3e4df65-ff31-4980-994f-7cbef2446b14 button');\n",
              "      quickchartButtonEl.style.display =\n",
              "        google.colab.kernel.accessAllowed ? 'block' : 'none';\n",
              "    })();\n",
              "  </script>\n",
              "</div>\n",
              "\n",
              "    </div>\n",
              "  </div>\n"
            ],
            "text/plain": [
              "   channel1  channel2  channel3  channel4  channel5  channel6  channel7  \\\n",
              "0   0.00001  -0.00002  -0.00001  -0.00003   0.00000  -0.00001   0.00000   \n",
              "1   0.00001  -0.00002  -0.00001  -0.00003   0.00000  -0.00001   0.00000   \n",
              "2  -0.00001   0.00001   0.00002   0.00000   0.00001  -0.00002  -0.00001   \n",
              "3  -0.00001   0.00001   0.00002   0.00000   0.00001  -0.00002  -0.00001   \n",
              "4  -0.00001   0.00001   0.00002   0.00000   0.00001  -0.00002  -0.00001   \n",
              "\n",
              "   channel8  class  label  \n",
              "0  -0.00001      0      1  \n",
              "1  -0.00001      0      1  \n",
              "2   0.00001      0      1  \n",
              "3   0.00001      0      1  \n",
              "4   0.00001      0      1  "
            ]
          },
          "execution_count": 50,
          "metadata": {},
          "output_type": "execute_result"
        }
      ],
      "source": [
        "df.drop('time', inplace=True, axis=1) # Drop the 'time' column\n",
        "df.head()  # Print the rows of the DataFrame"
      ]
    },
    {
      "cell_type": "code",
      "execution_count": null,
      "metadata": {
        "colab": {
          "base_uri": "https://localhost:8080/"
        },
        "id": "g_BPPyBWmb__",
        "outputId": "3d47717b-6777-4288-84f3-06de805c2aa4"
      },
      "outputs": [
        {
          "name": "stdout",
          "output_type": "stream",
          "text": [
            "<class 'pandas.core.frame.DataFrame'>\n",
            "RangeIndex: 4237907 entries, 0 to 4237906\n",
            "Data columns (total 10 columns):\n",
            " #   Column    Dtype  \n",
            "---  ------    -----  \n",
            " 0   channel1  float64\n",
            " 1   channel2  float64\n",
            " 2   channel3  float64\n",
            " 3   channel4  float64\n",
            " 4   channel5  float64\n",
            " 5   channel6  float64\n",
            " 6   channel7  float64\n",
            " 7   channel8  float64\n",
            " 8   class     int64  \n",
            " 9   label     int64  \n",
            "dtypes: float64(8), int64(2)\n",
            "memory usage: 323.3 MB\n"
          ]
        },
        {
          "data": {
            "text/plain": [
              "4237907"
            ]
          },
          "execution_count": 51,
          "metadata": {},
          "output_type": "execute_result"
        }
      ],
      "source": [
        "df.info()  # Assuming the CSV file is loaded as 'df' in previous code\n",
        "len(df)  # Get information about the DataFrame and its length"
      ]
    },
    {
      "cell_type": "code",
      "execution_count": null,
      "metadata": {
        "colab": {
          "base_uri": "https://localhost:8080/"
        },
        "id": "OOkKNN69mcAB",
        "outputId": "41a6e1c7-0686-4378-e4d5-878fcba03351"
      },
      "outputs": [
        {
          "data": {
            "text/plain": [
              "channel1    0\n",
              "channel2    0\n",
              "channel3    0\n",
              "channel4    0\n",
              "channel5    0\n",
              "channel6    0\n",
              "channel7    0\n",
              "channel8    0\n",
              "class       0\n",
              "label       0\n",
              "dtype: int64"
            ]
          },
          "execution_count": 52,
          "metadata": {},
          "output_type": "execute_result"
        }
      ],
      "source": [
        "df.isna().sum() # Count missing values in each column"
      ]
    },
    {
      "cell_type": "code",
      "execution_count": null,
      "metadata": {
        "colab": {
          "base_uri": "https://localhost:8080/"
        },
        "id": "rk0ffqdPmcAC",
        "outputId": "4b239263-a6f4-4a82-be2a-c74bc158177c"
      },
      "outputs": [
        {
          "name": "stdout",
          "output_type": "stream",
          "text": [
            "0    2725157\n",
            "6     253009\n",
            "5     251733\n",
            "4     251570\n",
            "1     250055\n",
            "3     249494\n",
            "2     243193\n",
            "7      13696\n",
            "Name: class, dtype: int64\n",
            "Total data Values: 4237907\n"
          ]
        }
      ],
      "source": [
        "print(df['class'].value_counts())  # Print the counts of unique values in the 'class' column\n",
        "print(f\"Total data Values: {len(df)}\")"
      ]
    },
    {
      "cell_type": "code",
      "execution_count": null,
      "metadata": {
        "id": "_PRzuvjamcAE"
      },
      "outputs": [],
      "source": [
        "df.drop(df[df['class'] == 0].index, inplace=True)   # Remove Rows with Class 0 (In-Place)"
      ]
    },
    {
      "cell_type": "code",
      "execution_count": null,
      "metadata": {
        "colab": {
          "base_uri": "https://localhost:8080/",
          "height": 206
        },
        "id": "tlhMdNk9mcAF",
        "outputId": "2a32dee3-1acc-4be4-dfce-4466264f9c89"
      },
      "outputs": [
        {
          "data": {
            "application/vnd.google.colaboratory.intrinsic+json": {
              "type": "dataframe",
              "variable_name": "df"
            },
            "text/html": [
              "\n",
              "  <div id=\"df-305e0bf7-cbac-41a0-af23-5d167f0d3e24\" class=\"colab-df-container\">\n",
              "    <div>\n",
              "<style scoped>\n",
              "    .dataframe tbody tr th:only-of-type {\n",
              "        vertical-align: middle;\n",
              "    }\n",
              "\n",
              "    .dataframe tbody tr th {\n",
              "        vertical-align: top;\n",
              "    }\n",
              "\n",
              "    .dataframe thead th {\n",
              "        text-align: right;\n",
              "    }\n",
              "</style>\n",
              "<table border=\"1\" class=\"dataframe\">\n",
              "  <thead>\n",
              "    <tr style=\"text-align: right;\">\n",
              "      <th></th>\n",
              "      <th>channel1</th>\n",
              "      <th>channel2</th>\n",
              "      <th>channel3</th>\n",
              "      <th>channel4</th>\n",
              "      <th>channel5</th>\n",
              "      <th>channel6</th>\n",
              "      <th>channel7</th>\n",
              "      <th>channel8</th>\n",
              "      <th>class</th>\n",
              "      <th>label</th>\n",
              "    </tr>\n",
              "  </thead>\n",
              "  <tbody>\n",
              "    <tr>\n",
              "      <th>2287</th>\n",
              "      <td>-0.00001</td>\n",
              "      <td>0.00000</td>\n",
              "      <td>-0.00001</td>\n",
              "      <td>0.00000</td>\n",
              "      <td>0.00000</td>\n",
              "      <td>-0.00001</td>\n",
              "      <td>-0.00001</td>\n",
              "      <td>0.00001</td>\n",
              "      <td>1</td>\n",
              "      <td>1</td>\n",
              "    </tr>\n",
              "    <tr>\n",
              "      <th>2288</th>\n",
              "      <td>-0.00001</td>\n",
              "      <td>-0.00002</td>\n",
              "      <td>0.00000</td>\n",
              "      <td>-0.00001</td>\n",
              "      <td>-0.00001</td>\n",
              "      <td>-0.00001</td>\n",
              "      <td>-0.00003</td>\n",
              "      <td>-0.00002</td>\n",
              "      <td>1</td>\n",
              "      <td>1</td>\n",
              "    </tr>\n",
              "    <tr>\n",
              "      <th>2289</th>\n",
              "      <td>-0.00001</td>\n",
              "      <td>-0.00002</td>\n",
              "      <td>0.00000</td>\n",
              "      <td>-0.00001</td>\n",
              "      <td>-0.00001</td>\n",
              "      <td>-0.00001</td>\n",
              "      <td>-0.00003</td>\n",
              "      <td>-0.00002</td>\n",
              "      <td>1</td>\n",
              "      <td>1</td>\n",
              "    </tr>\n",
              "    <tr>\n",
              "      <th>2290</th>\n",
              "      <td>-0.00001</td>\n",
              "      <td>-0.00002</td>\n",
              "      <td>0.00000</td>\n",
              "      <td>-0.00001</td>\n",
              "      <td>-0.00001</td>\n",
              "      <td>-0.00001</td>\n",
              "      <td>-0.00003</td>\n",
              "      <td>-0.00002</td>\n",
              "      <td>1</td>\n",
              "      <td>1</td>\n",
              "    </tr>\n",
              "    <tr>\n",
              "      <th>2291</th>\n",
              "      <td>-0.00001</td>\n",
              "      <td>-0.00002</td>\n",
              "      <td>0.00000</td>\n",
              "      <td>-0.00001</td>\n",
              "      <td>-0.00001</td>\n",
              "      <td>-0.00001</td>\n",
              "      <td>-0.00003</td>\n",
              "      <td>-0.00002</td>\n",
              "      <td>1</td>\n",
              "      <td>1</td>\n",
              "    </tr>\n",
              "  </tbody>\n",
              "</table>\n",
              "</div>\n",
              "    <div class=\"colab-df-buttons\">\n",
              "\n",
              "  <div class=\"colab-df-container\">\n",
              "    <button class=\"colab-df-convert\" onclick=\"convertToInteractive('df-305e0bf7-cbac-41a0-af23-5d167f0d3e24')\"\n",
              "            title=\"Convert this dataframe to an interactive table.\"\n",
              "            style=\"display:none;\">\n",
              "\n",
              "  <svg xmlns=\"http://www.w3.org/2000/svg\" height=\"24px\" viewBox=\"0 -960 960 960\">\n",
              "    <path d=\"M120-120v-720h720v720H120Zm60-500h600v-160H180v160Zm220 220h160v-160H400v160Zm0 220h160v-160H400v160ZM180-400h160v-160H180v160Zm440 0h160v-160H620v160ZM180-180h160v-160H180v160Zm440 0h160v-160H620v160Z\"/>\n",
              "  </svg>\n",
              "    </button>\n",
              "\n",
              "  <style>\n",
              "    .colab-df-container {\n",
              "      display:flex;\n",
              "      gap: 12px;\n",
              "    }\n",
              "\n",
              "    .colab-df-convert {\n",
              "      background-color: #E8F0FE;\n",
              "      border: none;\n",
              "      border-radius: 50%;\n",
              "      cursor: pointer;\n",
              "      display: none;\n",
              "      fill: #1967D2;\n",
              "      height: 32px;\n",
              "      padding: 0 0 0 0;\n",
              "      width: 32px;\n",
              "    }\n",
              "\n",
              "    .colab-df-convert:hover {\n",
              "      background-color: #E2EBFA;\n",
              "      box-shadow: 0px 1px 2px rgba(60, 64, 67, 0.3), 0px 1px 3px 1px rgba(60, 64, 67, 0.15);\n",
              "      fill: #174EA6;\n",
              "    }\n",
              "\n",
              "    .colab-df-buttons div {\n",
              "      margin-bottom: 4px;\n",
              "    }\n",
              "\n",
              "    [theme=dark] .colab-df-convert {\n",
              "      background-color: #3B4455;\n",
              "      fill: #D2E3FC;\n",
              "    }\n",
              "\n",
              "    [theme=dark] .colab-df-convert:hover {\n",
              "      background-color: #434B5C;\n",
              "      box-shadow: 0px 1px 3px 1px rgba(0, 0, 0, 0.15);\n",
              "      filter: drop-shadow(0px 1px 2px rgba(0, 0, 0, 0.3));\n",
              "      fill: #FFFFFF;\n",
              "    }\n",
              "  </style>\n",
              "\n",
              "    <script>\n",
              "      const buttonEl =\n",
              "        document.querySelector('#df-305e0bf7-cbac-41a0-af23-5d167f0d3e24 button.colab-df-convert');\n",
              "      buttonEl.style.display =\n",
              "        google.colab.kernel.accessAllowed ? 'block' : 'none';\n",
              "\n",
              "      async function convertToInteractive(key) {\n",
              "        const element = document.querySelector('#df-305e0bf7-cbac-41a0-af23-5d167f0d3e24');\n",
              "        const dataTable =\n",
              "          await google.colab.kernel.invokeFunction('convertToInteractive',\n",
              "                                                    [key], {});\n",
              "        if (!dataTable) return;\n",
              "\n",
              "        const docLinkHtml = 'Like what you see? Visit the ' +\n",
              "          '<a target=\"_blank\" href=https://colab.research.google.com/notebooks/data_table.ipynb>data table notebook</a>'\n",
              "          + ' to learn more about interactive tables.';\n",
              "        element.innerHTML = '';\n",
              "        dataTable['output_type'] = 'display_data';\n",
              "        await google.colab.output.renderOutput(dataTable, element);\n",
              "        const docLink = document.createElement('div');\n",
              "        docLink.innerHTML = docLinkHtml;\n",
              "        element.appendChild(docLink);\n",
              "      }\n",
              "    </script>\n",
              "  </div>\n",
              "\n",
              "\n",
              "<div id=\"df-65ee77a3-13e7-4c27-bd3f-4e6c91c6022a\">\n",
              "  <button class=\"colab-df-quickchart\" onclick=\"quickchart('df-65ee77a3-13e7-4c27-bd3f-4e6c91c6022a')\"\n",
              "            title=\"Suggest charts\"\n",
              "            style=\"display:none;\">\n",
              "\n",
              "<svg xmlns=\"http://www.w3.org/2000/svg\" height=\"24px\"viewBox=\"0 0 24 24\"\n",
              "     width=\"24px\">\n",
              "    <g>\n",
              "        <path d=\"M19 3H5c-1.1 0-2 .9-2 2v14c0 1.1.9 2 2 2h14c1.1 0 2-.9 2-2V5c0-1.1-.9-2-2-2zM9 17H7v-7h2v7zm4 0h-2V7h2v10zm4 0h-2v-4h2v4z\"/>\n",
              "    </g>\n",
              "</svg>\n",
              "  </button>\n",
              "\n",
              "<style>\n",
              "  .colab-df-quickchart {\n",
              "      --bg-color: #E8F0FE;\n",
              "      --fill-color: #1967D2;\n",
              "      --hover-bg-color: #E2EBFA;\n",
              "      --hover-fill-color: #174EA6;\n",
              "      --disabled-fill-color: #AAA;\n",
              "      --disabled-bg-color: #DDD;\n",
              "  }\n",
              "\n",
              "  [theme=dark] .colab-df-quickchart {\n",
              "      --bg-color: #3B4455;\n",
              "      --fill-color: #D2E3FC;\n",
              "      --hover-bg-color: #434B5C;\n",
              "      --hover-fill-color: #FFFFFF;\n",
              "      --disabled-bg-color: #3B4455;\n",
              "      --disabled-fill-color: #666;\n",
              "  }\n",
              "\n",
              "  .colab-df-quickchart {\n",
              "    background-color: var(--bg-color);\n",
              "    border: none;\n",
              "    border-radius: 50%;\n",
              "    cursor: pointer;\n",
              "    display: none;\n",
              "    fill: var(--fill-color);\n",
              "    height: 32px;\n",
              "    padding: 0;\n",
              "    width: 32px;\n",
              "  }\n",
              "\n",
              "  .colab-df-quickchart:hover {\n",
              "    background-color: var(--hover-bg-color);\n",
              "    box-shadow: 0 1px 2px rgba(60, 64, 67, 0.3), 0 1px 3px 1px rgba(60, 64, 67, 0.15);\n",
              "    fill: var(--button-hover-fill-color);\n",
              "  }\n",
              "\n",
              "  .colab-df-quickchart-complete:disabled,\n",
              "  .colab-df-quickchart-complete:disabled:hover {\n",
              "    background-color: var(--disabled-bg-color);\n",
              "    fill: var(--disabled-fill-color);\n",
              "    box-shadow: none;\n",
              "  }\n",
              "\n",
              "  .colab-df-spinner {\n",
              "    border: 2px solid var(--fill-color);\n",
              "    border-color: transparent;\n",
              "    border-bottom-color: var(--fill-color);\n",
              "    animation:\n",
              "      spin 1s steps(1) infinite;\n",
              "  }\n",
              "\n",
              "  @keyframes spin {\n",
              "    0% {\n",
              "      border-color: transparent;\n",
              "      border-bottom-color: var(--fill-color);\n",
              "      border-left-color: var(--fill-color);\n",
              "    }\n",
              "    20% {\n",
              "      border-color: transparent;\n",
              "      border-left-color: var(--fill-color);\n",
              "      border-top-color: var(--fill-color);\n",
              "    }\n",
              "    30% {\n",
              "      border-color: transparent;\n",
              "      border-left-color: var(--fill-color);\n",
              "      border-top-color: var(--fill-color);\n",
              "      border-right-color: var(--fill-color);\n",
              "    }\n",
              "    40% {\n",
              "      border-color: transparent;\n",
              "      border-right-color: var(--fill-color);\n",
              "      border-top-color: var(--fill-color);\n",
              "    }\n",
              "    60% {\n",
              "      border-color: transparent;\n",
              "      border-right-color: var(--fill-color);\n",
              "    }\n",
              "    80% {\n",
              "      border-color: transparent;\n",
              "      border-right-color: var(--fill-color);\n",
              "      border-bottom-color: var(--fill-color);\n",
              "    }\n",
              "    90% {\n",
              "      border-color: transparent;\n",
              "      border-bottom-color: var(--fill-color);\n",
              "    }\n",
              "  }\n",
              "</style>\n",
              "\n",
              "  <script>\n",
              "    async function quickchart(key) {\n",
              "      const quickchartButtonEl =\n",
              "        document.querySelector('#' + key + ' button');\n",
              "      quickchartButtonEl.disabled = true;  // To prevent multiple clicks.\n",
              "      quickchartButtonEl.classList.add('colab-df-spinner');\n",
              "      try {\n",
              "        const charts = await google.colab.kernel.invokeFunction(\n",
              "            'suggestCharts', [key], {});\n",
              "      } catch (error) {\n",
              "        console.error('Error during call to suggestCharts:', error);\n",
              "      }\n",
              "      quickchartButtonEl.classList.remove('colab-df-spinner');\n",
              "      quickchartButtonEl.classList.add('colab-df-quickchart-complete');\n",
              "    }\n",
              "    (() => {\n",
              "      let quickchartButtonEl =\n",
              "        document.querySelector('#df-65ee77a3-13e7-4c27-bd3f-4e6c91c6022a button');\n",
              "      quickchartButtonEl.style.display =\n",
              "        google.colab.kernel.accessAllowed ? 'block' : 'none';\n",
              "    })();\n",
              "  </script>\n",
              "</div>\n",
              "\n",
              "    </div>\n",
              "  </div>\n"
            ],
            "text/plain": [
              "      channel1  channel2  channel3  channel4  channel5  channel6  channel7  \\\n",
              "2287  -0.00001   0.00000  -0.00001   0.00000   0.00000  -0.00001  -0.00001   \n",
              "2288  -0.00001  -0.00002   0.00000  -0.00001  -0.00001  -0.00001  -0.00003   \n",
              "2289  -0.00001  -0.00002   0.00000  -0.00001  -0.00001  -0.00001  -0.00003   \n",
              "2290  -0.00001  -0.00002   0.00000  -0.00001  -0.00001  -0.00001  -0.00003   \n",
              "2291  -0.00001  -0.00002   0.00000  -0.00001  -0.00001  -0.00001  -0.00003   \n",
              "\n",
              "      channel8  class  label  \n",
              "2287   0.00001      1      1  \n",
              "2288  -0.00002      1      1  \n",
              "2289  -0.00002      1      1  \n",
              "2290  -0.00002      1      1  \n",
              "2291  -0.00002      1      1  "
            ]
          },
          "execution_count": 55,
          "metadata": {},
          "output_type": "execute_result"
        }
      ],
      "source": [
        "df.head()   # Display the first few rows of the DataFrame"
      ]
    },
    {
      "cell_type": "code",
      "execution_count": null,
      "metadata": {
        "colab": {
          "base_uri": "https://localhost:8080/"
        },
        "id": "r369CQoNmcAH",
        "outputId": "fbede867-a9fe-465f-dff5-602a488ae2c4"
      },
      "outputs": [
        {
          "data": {
            "text/plain": [
              "class\n",
              "1     True\n",
              "2     True\n",
              "3     True\n",
              "4     True\n",
              "5     True\n",
              "6     True\n",
              "7    False\n",
              "Name: label, dtype: bool"
            ]
          },
          "execution_count": 56,
          "metadata": {},
          "output_type": "execute_result"
        }
      ],
      "source": [
        "all_labels_present = df.groupby('class')['label'].nunique() == 36    # use \" unquniq() == 36 \" to check if all class have 36 unique label\n",
        "all_labels_present     # Unique labels per class (36 check)"
      ]
    },
    {
      "cell_type": "markdown",
      "metadata": {
        "id": "_D4mEOdVSlkF"
      },
      "source": [
        "#**Check How Label in Class 7**"
      ]
    },
    {
      "cell_type": "code",
      "execution_count": null,
      "metadata": {
        "colab": {
          "base_uri": "https://localhost:8080/",
          "height": 125
        },
        "id": "rjj12ueGmcAH",
        "outputId": "12260602-9996-4afd-851d-2f7c40088b56"
      },
      "outputs": [
        {
          "data": {
            "application/vnd.google.colaboratory.intrinsic+json": {
              "summary": "{\n  \"name\": \"class_7_label_counts\",\n  \"rows\": 2,\n  \"fields\": [\n    {\n      \"column\": \"label\",\n      \"properties\": {\n        \"dtype\": \"number\",\n        \"std\": 13,\n        \"min\": 11,\n        \"max\": 30,\n        \"num_unique_values\": 2,\n        \"samples\": [\n          30,\n          11\n        ],\n        \"semantic_type\": \"\",\n        \"description\": \"\"\n      }\n    },\n    {\n      \"column\": \"count\",\n      \"properties\": {\n        \"dtype\": \"number\",\n        \"std\": 363,\n        \"min\": 6591,\n        \"max\": 7105,\n        \"num_unique_values\": 2,\n        \"samples\": [\n          6591,\n          7105\n        ],\n        \"semantic_type\": \"\",\n        \"description\": \"\"\n      }\n    }\n  ]\n}",
              "type": "dataframe",
              "variable_name": "class_7_label_counts"
            },
            "text/html": [
              "\n",
              "  <div id=\"df-14dc7565-5576-4885-8a80-da2ce8b065ab\" class=\"colab-df-container\">\n",
              "    <div>\n",
              "<style scoped>\n",
              "    .dataframe tbody tr th:only-of-type {\n",
              "        vertical-align: middle;\n",
              "    }\n",
              "\n",
              "    .dataframe tbody tr th {\n",
              "        vertical-align: top;\n",
              "    }\n",
              "\n",
              "    .dataframe thead th {\n",
              "        text-align: right;\n",
              "    }\n",
              "</style>\n",
              "<table border=\"1\" class=\"dataframe\">\n",
              "  <thead>\n",
              "    <tr style=\"text-align: right;\">\n",
              "      <th></th>\n",
              "      <th>label</th>\n",
              "      <th>count</th>\n",
              "    </tr>\n",
              "  </thead>\n",
              "  <tbody>\n",
              "    <tr>\n",
              "      <th>0</th>\n",
              "      <td>11</td>\n",
              "      <td>7105</td>\n",
              "    </tr>\n",
              "    <tr>\n",
              "      <th>1</th>\n",
              "      <td>30</td>\n",
              "      <td>6591</td>\n",
              "    </tr>\n",
              "  </tbody>\n",
              "</table>\n",
              "</div>\n",
              "    <div class=\"colab-df-buttons\">\n",
              "\n",
              "  <div class=\"colab-df-container\">\n",
              "    <button class=\"colab-df-convert\" onclick=\"convertToInteractive('df-14dc7565-5576-4885-8a80-da2ce8b065ab')\"\n",
              "            title=\"Convert this dataframe to an interactive table.\"\n",
              "            style=\"display:none;\">\n",
              "\n",
              "  <svg xmlns=\"http://www.w3.org/2000/svg\" height=\"24px\" viewBox=\"0 -960 960 960\">\n",
              "    <path d=\"M120-120v-720h720v720H120Zm60-500h600v-160H180v160Zm220 220h160v-160H400v160Zm0 220h160v-160H400v160ZM180-400h160v-160H180v160Zm440 0h160v-160H620v160ZM180-180h160v-160H180v160Zm440 0h160v-160H620v160Z\"/>\n",
              "  </svg>\n",
              "    </button>\n",
              "\n",
              "  <style>\n",
              "    .colab-df-container {\n",
              "      display:flex;\n",
              "      gap: 12px;\n",
              "    }\n",
              "\n",
              "    .colab-df-convert {\n",
              "      background-color: #E8F0FE;\n",
              "      border: none;\n",
              "      border-radius: 50%;\n",
              "      cursor: pointer;\n",
              "      display: none;\n",
              "      fill: #1967D2;\n",
              "      height: 32px;\n",
              "      padding: 0 0 0 0;\n",
              "      width: 32px;\n",
              "    }\n",
              "\n",
              "    .colab-df-convert:hover {\n",
              "      background-color: #E2EBFA;\n",
              "      box-shadow: 0px 1px 2px rgba(60, 64, 67, 0.3), 0px 1px 3px 1px rgba(60, 64, 67, 0.15);\n",
              "      fill: #174EA6;\n",
              "    }\n",
              "\n",
              "    .colab-df-buttons div {\n",
              "      margin-bottom: 4px;\n",
              "    }\n",
              "\n",
              "    [theme=dark] .colab-df-convert {\n",
              "      background-color: #3B4455;\n",
              "      fill: #D2E3FC;\n",
              "    }\n",
              "\n",
              "    [theme=dark] .colab-df-convert:hover {\n",
              "      background-color: #434B5C;\n",
              "      box-shadow: 0px 1px 3px 1px rgba(0, 0, 0, 0.15);\n",
              "      filter: drop-shadow(0px 1px 2px rgba(0, 0, 0, 0.3));\n",
              "      fill: #FFFFFF;\n",
              "    }\n",
              "  </style>\n",
              "\n",
              "    <script>\n",
              "      const buttonEl =\n",
              "        document.querySelector('#df-14dc7565-5576-4885-8a80-da2ce8b065ab button.colab-df-convert');\n",
              "      buttonEl.style.display =\n",
              "        google.colab.kernel.accessAllowed ? 'block' : 'none';\n",
              "\n",
              "      async function convertToInteractive(key) {\n",
              "        const element = document.querySelector('#df-14dc7565-5576-4885-8a80-da2ce8b065ab');\n",
              "        const dataTable =\n",
              "          await google.colab.kernel.invokeFunction('convertToInteractive',\n",
              "                                                    [key], {});\n",
              "        if (!dataTable) return;\n",
              "\n",
              "        const docLinkHtml = 'Like what you see? Visit the ' +\n",
              "          '<a target=\"_blank\" href=https://colab.research.google.com/notebooks/data_table.ipynb>data table notebook</a>'\n",
              "          + ' to learn more about interactive tables.';\n",
              "        element.innerHTML = '';\n",
              "        dataTable['output_type'] = 'display_data';\n",
              "        await google.colab.output.renderOutput(dataTable, element);\n",
              "        const docLink = document.createElement('div');\n",
              "        docLink.innerHTML = docLinkHtml;\n",
              "        element.appendChild(docLink);\n",
              "      }\n",
              "    </script>\n",
              "  </div>\n",
              "\n",
              "\n",
              "<div id=\"df-f5c4d8bd-9af8-48b5-9ae7-817dd723d045\">\n",
              "  <button class=\"colab-df-quickchart\" onclick=\"quickchart('df-f5c4d8bd-9af8-48b5-9ae7-817dd723d045')\"\n",
              "            title=\"Suggest charts\"\n",
              "            style=\"display:none;\">\n",
              "\n",
              "<svg xmlns=\"http://www.w3.org/2000/svg\" height=\"24px\"viewBox=\"0 0 24 24\"\n",
              "     width=\"24px\">\n",
              "    <g>\n",
              "        <path d=\"M19 3H5c-1.1 0-2 .9-2 2v14c0 1.1.9 2 2 2h14c1.1 0 2-.9 2-2V5c0-1.1-.9-2-2-2zM9 17H7v-7h2v7zm4 0h-2V7h2v10zm4 0h-2v-4h2v4z\"/>\n",
              "    </g>\n",
              "</svg>\n",
              "  </button>\n",
              "\n",
              "<style>\n",
              "  .colab-df-quickchart {\n",
              "      --bg-color: #E8F0FE;\n",
              "      --fill-color: #1967D2;\n",
              "      --hover-bg-color: #E2EBFA;\n",
              "      --hover-fill-color: #174EA6;\n",
              "      --disabled-fill-color: #AAA;\n",
              "      --disabled-bg-color: #DDD;\n",
              "  }\n",
              "\n",
              "  [theme=dark] .colab-df-quickchart {\n",
              "      --bg-color: #3B4455;\n",
              "      --fill-color: #D2E3FC;\n",
              "      --hover-bg-color: #434B5C;\n",
              "      --hover-fill-color: #FFFFFF;\n",
              "      --disabled-bg-color: #3B4455;\n",
              "      --disabled-fill-color: #666;\n",
              "  }\n",
              "\n",
              "  .colab-df-quickchart {\n",
              "    background-color: var(--bg-color);\n",
              "    border: none;\n",
              "    border-radius: 50%;\n",
              "    cursor: pointer;\n",
              "    display: none;\n",
              "    fill: var(--fill-color);\n",
              "    height: 32px;\n",
              "    padding: 0;\n",
              "    width: 32px;\n",
              "  }\n",
              "\n",
              "  .colab-df-quickchart:hover {\n",
              "    background-color: var(--hover-bg-color);\n",
              "    box-shadow: 0 1px 2px rgba(60, 64, 67, 0.3), 0 1px 3px 1px rgba(60, 64, 67, 0.15);\n",
              "    fill: var(--button-hover-fill-color);\n",
              "  }\n",
              "\n",
              "  .colab-df-quickchart-complete:disabled,\n",
              "  .colab-df-quickchart-complete:disabled:hover {\n",
              "    background-color: var(--disabled-bg-color);\n",
              "    fill: var(--disabled-fill-color);\n",
              "    box-shadow: none;\n",
              "  }\n",
              "\n",
              "  .colab-df-spinner {\n",
              "    border: 2px solid var(--fill-color);\n",
              "    border-color: transparent;\n",
              "    border-bottom-color: var(--fill-color);\n",
              "    animation:\n",
              "      spin 1s steps(1) infinite;\n",
              "  }\n",
              "\n",
              "  @keyframes spin {\n",
              "    0% {\n",
              "      border-color: transparent;\n",
              "      border-bottom-color: var(--fill-color);\n",
              "      border-left-color: var(--fill-color);\n",
              "    }\n",
              "    20% {\n",
              "      border-color: transparent;\n",
              "      border-left-color: var(--fill-color);\n",
              "      border-top-color: var(--fill-color);\n",
              "    }\n",
              "    30% {\n",
              "      border-color: transparent;\n",
              "      border-left-color: var(--fill-color);\n",
              "      border-top-color: var(--fill-color);\n",
              "      border-right-color: var(--fill-color);\n",
              "    }\n",
              "    40% {\n",
              "      border-color: transparent;\n",
              "      border-right-color: var(--fill-color);\n",
              "      border-top-color: var(--fill-color);\n",
              "    }\n",
              "    60% {\n",
              "      border-color: transparent;\n",
              "      border-right-color: var(--fill-color);\n",
              "    }\n",
              "    80% {\n",
              "      border-color: transparent;\n",
              "      border-right-color: var(--fill-color);\n",
              "      border-bottom-color: var(--fill-color);\n",
              "    }\n",
              "    90% {\n",
              "      border-color: transparent;\n",
              "      border-bottom-color: var(--fill-color);\n",
              "    }\n",
              "  }\n",
              "</style>\n",
              "\n",
              "  <script>\n",
              "    async function quickchart(key) {\n",
              "      const quickchartButtonEl =\n",
              "        document.querySelector('#' + key + ' button');\n",
              "      quickchartButtonEl.disabled = true;  // To prevent multiple clicks.\n",
              "      quickchartButtonEl.classList.add('colab-df-spinner');\n",
              "      try {\n",
              "        const charts = await google.colab.kernel.invokeFunction(\n",
              "            'suggestCharts', [key], {});\n",
              "      } catch (error) {\n",
              "        console.error('Error during call to suggestCharts:', error);\n",
              "      }\n",
              "      quickchartButtonEl.classList.remove('colab-df-spinner');\n",
              "      quickchartButtonEl.classList.add('colab-df-quickchart-complete');\n",
              "    }\n",
              "    (() => {\n",
              "      let quickchartButtonEl =\n",
              "        document.querySelector('#df-f5c4d8bd-9af8-48b5-9ae7-817dd723d045 button');\n",
              "      quickchartButtonEl.style.display =\n",
              "        google.colab.kernel.accessAllowed ? 'block' : 'none';\n",
              "    })();\n",
              "  </script>\n",
              "</div>\n",
              "\n",
              "  <div id=\"id_4e0e3d78-6053-4f8c-b30b-da0f342507a6\">\n",
              "    <style>\n",
              "      .colab-df-generate {\n",
              "        background-color: #E8F0FE;\n",
              "        border: none;\n",
              "        border-radius: 50%;\n",
              "        cursor: pointer;\n",
              "        display: none;\n",
              "        fill: #1967D2;\n",
              "        height: 32px;\n",
              "        padding: 0 0 0 0;\n",
              "        width: 32px;\n",
              "      }\n",
              "\n",
              "      .colab-df-generate:hover {\n",
              "        background-color: #E2EBFA;\n",
              "        box-shadow: 0px 1px 2px rgba(60, 64, 67, 0.3), 0px 1px 3px 1px rgba(60, 64, 67, 0.15);\n",
              "        fill: #174EA6;\n",
              "      }\n",
              "\n",
              "      [theme=dark] .colab-df-generate {\n",
              "        background-color: #3B4455;\n",
              "        fill: #D2E3FC;\n",
              "      }\n",
              "\n",
              "      [theme=dark] .colab-df-generate:hover {\n",
              "        background-color: #434B5C;\n",
              "        box-shadow: 0px 1px 3px 1px rgba(0, 0, 0, 0.15);\n",
              "        filter: drop-shadow(0px 1px 2px rgba(0, 0, 0, 0.3));\n",
              "        fill: #FFFFFF;\n",
              "      }\n",
              "    </style>\n",
              "    <button class=\"colab-df-generate\" onclick=\"generateWithVariable('class_7_label_counts')\"\n",
              "            title=\"Generate code using this dataframe.\"\n",
              "            style=\"display:none;\">\n",
              "\n",
              "  <svg xmlns=\"http://www.w3.org/2000/svg\" height=\"24px\"viewBox=\"0 0 24 24\"\n",
              "       width=\"24px\">\n",
              "    <path d=\"M7,19H8.4L18.45,9,17,7.55,7,17.6ZM5,21V16.75L18.45,3.32a2,2,0,0,1,2.83,0l1.4,1.43a1.91,1.91,0,0,1,.58,1.4,1.91,1.91,0,0,1-.58,1.4L9.25,21ZM18.45,9,17,7.55Zm-12,3A5.31,5.31,0,0,0,4.9,8.1,5.31,5.31,0,0,0,1,6.5,5.31,5.31,0,0,0,4.9,4.9,5.31,5.31,0,0,0,6.5,1,5.31,5.31,0,0,0,8.1,4.9,5.31,5.31,0,0,0,12,6.5,5.46,5.46,0,0,0,6.5,12Z\"/>\n",
              "  </svg>\n",
              "    </button>\n",
              "    <script>\n",
              "      (() => {\n",
              "      const buttonEl =\n",
              "        document.querySelector('#id_4e0e3d78-6053-4f8c-b30b-da0f342507a6 button.colab-df-generate');\n",
              "      buttonEl.style.display =\n",
              "        google.colab.kernel.accessAllowed ? 'block' : 'none';\n",
              "\n",
              "      buttonEl.onclick = () => {\n",
              "        google.colab.notebook.generateWithVariable('class_7_label_counts');\n",
              "      }\n",
              "      })();\n",
              "    </script>\n",
              "  </div>\n",
              "\n",
              "    </div>\n",
              "  </div>\n"
            ],
            "text/plain": [
              "   label  count\n",
              "0     11   7105\n",
              "1     30   6591"
            ]
          },
          "execution_count": 57,
          "metadata": {},
          "output_type": "execute_result"
        }
      ],
      "source": [
        "# check how many label in class = 7\n",
        "class_7_data = df[df['class'] == 7]\n",
        "class_7_label_counts = class_7_data.groupby('label').size().reset_index(name='count')\n",
        "class_7_label_counts"
      ]
    },
    {
      "cell_type": "code",
      "execution_count": null,
      "metadata": {
        "id": "6CWGH6xsmcAI"
      },
      "outputs": [],
      "source": [
        "data = df[df['class'] != 7]  # Exclude class-7 data"
      ]
    },
    {
      "cell_type": "code",
      "execution_count": null,
      "metadata": {
        "colab": {
          "base_uri": "https://localhost:8080/"
        },
        "id": "L-EE9Y1DmcAJ",
        "outputId": "7ca70cb2-f64c-46c3-d32d-5da5e584dd03"
      },
      "outputs": [
        {
          "data": {
            "text/plain": [
              "6    253009\n",
              "5    251733\n",
              "4    251570\n",
              "1    250055\n",
              "3    249494\n",
              "2    243193\n",
              "Name: class, dtype: int64"
            ]
          },
          "execution_count": 59,
          "metadata": {},
          "output_type": "execute_result"
        }
      ],
      "source": [
        "data['class'].value_counts() # Remove rows with class-7, class - 0"
      ]
    },
    {
      "cell_type": "code",
      "execution_count": null,
      "metadata": {
        "id": "i8cMynO8mcAJ"
      },
      "outputs": [],
      "source": [
        "subjects_data = data.groupby(['label','class'])   # Categorize data by label and class"
      ]
    },
    {
      "cell_type": "code",
      "execution_count": null,
      "metadata": {
        "colab": {
          "base_uri": "https://localhost:8080/"
        },
        "id": "1TkAS84smcAK",
        "outputId": "dbef31b0-c3a8-4031-ed45-3417d0ee53fe"
      },
      "outputs": [
        {
          "name": "stdout",
          "output_type": "stream",
          "text": [
            "Class distribution:\n",
            "   class   count\n",
            "0      1  250055\n",
            "1      2  243193\n",
            "2      3  249494\n",
            "3      4  251570\n",
            "4      5  251733\n",
            "5      6  253009\n"
          ]
        }
      ],
      "source": [
        "# Assuming you have loaded your dataset into a DataFrame named df\n",
        "class_counts = data.groupby('class').size().reset_index(name='count')\n",
        "\n",
        "print('Class distribution:')\n",
        "print(class_counts)"
      ]
    },
    {
      "cell_type": "code",
      "execution_count": null,
      "metadata": {
        "colab": {
          "base_uri": "https://localhost:8080/",
          "height": 423
        },
        "id": "tajt_JbxmcAK",
        "outputId": "bab6aaac-afc9-4480-e165-33e72a70800a"
      },
      "outputs": [
        {
          "data": {
            "application/vnd.google.colaboratory.intrinsic+json": {
              "type": "dataframe",
              "variable_name": "data"
            },
            "text/html": [
              "\n",
              "  <div id=\"df-830afe8f-cbb1-4b41-ab84-0b3e5f38e43f\" class=\"colab-df-container\">\n",
              "    <div>\n",
              "<style scoped>\n",
              "    .dataframe tbody tr th:only-of-type {\n",
              "        vertical-align: middle;\n",
              "    }\n",
              "\n",
              "    .dataframe tbody tr th {\n",
              "        vertical-align: top;\n",
              "    }\n",
              "\n",
              "    .dataframe thead th {\n",
              "        text-align: right;\n",
              "    }\n",
              "</style>\n",
              "<table border=\"1\" class=\"dataframe\">\n",
              "  <thead>\n",
              "    <tr style=\"text-align: right;\">\n",
              "      <th></th>\n",
              "      <th>channel1</th>\n",
              "      <th>channel2</th>\n",
              "      <th>channel3</th>\n",
              "      <th>channel4</th>\n",
              "      <th>channel5</th>\n",
              "      <th>channel6</th>\n",
              "      <th>channel7</th>\n",
              "      <th>channel8</th>\n",
              "      <th>class</th>\n",
              "      <th>label</th>\n",
              "    </tr>\n",
              "  </thead>\n",
              "  <tbody>\n",
              "    <tr>\n",
              "      <th>2287</th>\n",
              "      <td>-0.00001</td>\n",
              "      <td>0.00000</td>\n",
              "      <td>-0.00001</td>\n",
              "      <td>0.00000</td>\n",
              "      <td>0.00000</td>\n",
              "      <td>-0.00001</td>\n",
              "      <td>-0.00001</td>\n",
              "      <td>0.00001</td>\n",
              "      <td>1</td>\n",
              "      <td>1</td>\n",
              "    </tr>\n",
              "    <tr>\n",
              "      <th>2288</th>\n",
              "      <td>-0.00001</td>\n",
              "      <td>-0.00002</td>\n",
              "      <td>0.00000</td>\n",
              "      <td>-0.00001</td>\n",
              "      <td>-0.00001</td>\n",
              "      <td>-0.00001</td>\n",
              "      <td>-0.00003</td>\n",
              "      <td>-0.00002</td>\n",
              "      <td>1</td>\n",
              "      <td>1</td>\n",
              "    </tr>\n",
              "    <tr>\n",
              "      <th>2289</th>\n",
              "      <td>-0.00001</td>\n",
              "      <td>-0.00002</td>\n",
              "      <td>0.00000</td>\n",
              "      <td>-0.00001</td>\n",
              "      <td>-0.00001</td>\n",
              "      <td>-0.00001</td>\n",
              "      <td>-0.00003</td>\n",
              "      <td>-0.00002</td>\n",
              "      <td>1</td>\n",
              "      <td>1</td>\n",
              "    </tr>\n",
              "    <tr>\n",
              "      <th>2290</th>\n",
              "      <td>-0.00001</td>\n",
              "      <td>-0.00002</td>\n",
              "      <td>0.00000</td>\n",
              "      <td>-0.00001</td>\n",
              "      <td>-0.00001</td>\n",
              "      <td>-0.00001</td>\n",
              "      <td>-0.00003</td>\n",
              "      <td>-0.00002</td>\n",
              "      <td>1</td>\n",
              "      <td>1</td>\n",
              "    </tr>\n",
              "    <tr>\n",
              "      <th>2291</th>\n",
              "      <td>-0.00001</td>\n",
              "      <td>-0.00002</td>\n",
              "      <td>0.00000</td>\n",
              "      <td>-0.00001</td>\n",
              "      <td>-0.00001</td>\n",
              "      <td>-0.00001</td>\n",
              "      <td>-0.00003</td>\n",
              "      <td>-0.00002</td>\n",
              "      <td>1</td>\n",
              "      <td>1</td>\n",
              "    </tr>\n",
              "    <tr>\n",
              "      <th>...</th>\n",
              "      <td>...</td>\n",
              "      <td>...</td>\n",
              "      <td>...</td>\n",
              "      <td>...</td>\n",
              "      <td>...</td>\n",
              "      <td>...</td>\n",
              "      <td>...</td>\n",
              "      <td>...</td>\n",
              "      <td>...</td>\n",
              "      <td>...</td>\n",
              "    </tr>\n",
              "    <tr>\n",
              "      <th>4237207</th>\n",
              "      <td>0.00009</td>\n",
              "      <td>0.00001</td>\n",
              "      <td>0.00003</td>\n",
              "      <td>0.00001</td>\n",
              "      <td>-0.00003</td>\n",
              "      <td>-0.00008</td>\n",
              "      <td>0.00004</td>\n",
              "      <td>0.00000</td>\n",
              "      <td>6</td>\n",
              "      <td>36</td>\n",
              "    </tr>\n",
              "    <tr>\n",
              "      <th>4237208</th>\n",
              "      <td>0.00009</td>\n",
              "      <td>0.00001</td>\n",
              "      <td>0.00003</td>\n",
              "      <td>0.00001</td>\n",
              "      <td>-0.00003</td>\n",
              "      <td>-0.00008</td>\n",
              "      <td>0.00004</td>\n",
              "      <td>0.00000</td>\n",
              "      <td>6</td>\n",
              "      <td>36</td>\n",
              "    </tr>\n",
              "    <tr>\n",
              "      <th>4237209</th>\n",
              "      <td>0.00009</td>\n",
              "      <td>0.00001</td>\n",
              "      <td>0.00003</td>\n",
              "      <td>0.00001</td>\n",
              "      <td>-0.00003</td>\n",
              "      <td>-0.00008</td>\n",
              "      <td>0.00004</td>\n",
              "      <td>0.00000</td>\n",
              "      <td>6</td>\n",
              "      <td>36</td>\n",
              "    </tr>\n",
              "    <tr>\n",
              "      <th>4237210</th>\n",
              "      <td>0.00014</td>\n",
              "      <td>0.00003</td>\n",
              "      <td>-0.00001</td>\n",
              "      <td>0.00001</td>\n",
              "      <td>-0.00012</td>\n",
              "      <td>0.00006</td>\n",
              "      <td>-0.00007</td>\n",
              "      <td>-0.00013</td>\n",
              "      <td>6</td>\n",
              "      <td>36</td>\n",
              "    </tr>\n",
              "    <tr>\n",
              "      <th>4237211</th>\n",
              "      <td>0.00014</td>\n",
              "      <td>0.00003</td>\n",
              "      <td>-0.00001</td>\n",
              "      <td>0.00001</td>\n",
              "      <td>-0.00012</td>\n",
              "      <td>0.00006</td>\n",
              "      <td>-0.00007</td>\n",
              "      <td>-0.00013</td>\n",
              "      <td>6</td>\n",
              "      <td>36</td>\n",
              "    </tr>\n",
              "  </tbody>\n",
              "</table>\n",
              "<p>1499054 rows × 10 columns</p>\n",
              "</div>\n",
              "    <div class=\"colab-df-buttons\">\n",
              "\n",
              "  <div class=\"colab-df-container\">\n",
              "    <button class=\"colab-df-convert\" onclick=\"convertToInteractive('df-830afe8f-cbb1-4b41-ab84-0b3e5f38e43f')\"\n",
              "            title=\"Convert this dataframe to an interactive table.\"\n",
              "            style=\"display:none;\">\n",
              "\n",
              "  <svg xmlns=\"http://www.w3.org/2000/svg\" height=\"24px\" viewBox=\"0 -960 960 960\">\n",
              "    <path d=\"M120-120v-720h720v720H120Zm60-500h600v-160H180v160Zm220 220h160v-160H400v160Zm0 220h160v-160H400v160ZM180-400h160v-160H180v160Zm440 0h160v-160H620v160ZM180-180h160v-160H180v160Zm440 0h160v-160H620v160Z\"/>\n",
              "  </svg>\n",
              "    </button>\n",
              "\n",
              "  <style>\n",
              "    .colab-df-container {\n",
              "      display:flex;\n",
              "      gap: 12px;\n",
              "    }\n",
              "\n",
              "    .colab-df-convert {\n",
              "      background-color: #E8F0FE;\n",
              "      border: none;\n",
              "      border-radius: 50%;\n",
              "      cursor: pointer;\n",
              "      display: none;\n",
              "      fill: #1967D2;\n",
              "      height: 32px;\n",
              "      padding: 0 0 0 0;\n",
              "      width: 32px;\n",
              "    }\n",
              "\n",
              "    .colab-df-convert:hover {\n",
              "      background-color: #E2EBFA;\n",
              "      box-shadow: 0px 1px 2px rgba(60, 64, 67, 0.3), 0px 1px 3px 1px rgba(60, 64, 67, 0.15);\n",
              "      fill: #174EA6;\n",
              "    }\n",
              "\n",
              "    .colab-df-buttons div {\n",
              "      margin-bottom: 4px;\n",
              "    }\n",
              "\n",
              "    [theme=dark] .colab-df-convert {\n",
              "      background-color: #3B4455;\n",
              "      fill: #D2E3FC;\n",
              "    }\n",
              "\n",
              "    [theme=dark] .colab-df-convert:hover {\n",
              "      background-color: #434B5C;\n",
              "      box-shadow: 0px 1px 3px 1px rgba(0, 0, 0, 0.15);\n",
              "      filter: drop-shadow(0px 1px 2px rgba(0, 0, 0, 0.3));\n",
              "      fill: #FFFFFF;\n",
              "    }\n",
              "  </style>\n",
              "\n",
              "    <script>\n",
              "      const buttonEl =\n",
              "        document.querySelector('#df-830afe8f-cbb1-4b41-ab84-0b3e5f38e43f button.colab-df-convert');\n",
              "      buttonEl.style.display =\n",
              "        google.colab.kernel.accessAllowed ? 'block' : 'none';\n",
              "\n",
              "      async function convertToInteractive(key) {\n",
              "        const element = document.querySelector('#df-830afe8f-cbb1-4b41-ab84-0b3e5f38e43f');\n",
              "        const dataTable =\n",
              "          await google.colab.kernel.invokeFunction('convertToInteractive',\n",
              "                                                    [key], {});\n",
              "        if (!dataTable) return;\n",
              "\n",
              "        const docLinkHtml = 'Like what you see? Visit the ' +\n",
              "          '<a target=\"_blank\" href=https://colab.research.google.com/notebooks/data_table.ipynb>data table notebook</a>'\n",
              "          + ' to learn more about interactive tables.';\n",
              "        element.innerHTML = '';\n",
              "        dataTable['output_type'] = 'display_data';\n",
              "        await google.colab.output.renderOutput(dataTable, element);\n",
              "        const docLink = document.createElement('div');\n",
              "        docLink.innerHTML = docLinkHtml;\n",
              "        element.appendChild(docLink);\n",
              "      }\n",
              "    </script>\n",
              "  </div>\n",
              "\n",
              "\n",
              "<div id=\"df-df0e6a78-f4be-4452-829d-73c30713f6e7\">\n",
              "  <button class=\"colab-df-quickchart\" onclick=\"quickchart('df-df0e6a78-f4be-4452-829d-73c30713f6e7')\"\n",
              "            title=\"Suggest charts\"\n",
              "            style=\"display:none;\">\n",
              "\n",
              "<svg xmlns=\"http://www.w3.org/2000/svg\" height=\"24px\"viewBox=\"0 0 24 24\"\n",
              "     width=\"24px\">\n",
              "    <g>\n",
              "        <path d=\"M19 3H5c-1.1 0-2 .9-2 2v14c0 1.1.9 2 2 2h14c1.1 0 2-.9 2-2V5c0-1.1-.9-2-2-2zM9 17H7v-7h2v7zm4 0h-2V7h2v10zm4 0h-2v-4h2v4z\"/>\n",
              "    </g>\n",
              "</svg>\n",
              "  </button>\n",
              "\n",
              "<style>\n",
              "  .colab-df-quickchart {\n",
              "      --bg-color: #E8F0FE;\n",
              "      --fill-color: #1967D2;\n",
              "      --hover-bg-color: #E2EBFA;\n",
              "      --hover-fill-color: #174EA6;\n",
              "      --disabled-fill-color: #AAA;\n",
              "      --disabled-bg-color: #DDD;\n",
              "  }\n",
              "\n",
              "  [theme=dark] .colab-df-quickchart {\n",
              "      --bg-color: #3B4455;\n",
              "      --fill-color: #D2E3FC;\n",
              "      --hover-bg-color: #434B5C;\n",
              "      --hover-fill-color: #FFFFFF;\n",
              "      --disabled-bg-color: #3B4455;\n",
              "      --disabled-fill-color: #666;\n",
              "  }\n",
              "\n",
              "  .colab-df-quickchart {\n",
              "    background-color: var(--bg-color);\n",
              "    border: none;\n",
              "    border-radius: 50%;\n",
              "    cursor: pointer;\n",
              "    display: none;\n",
              "    fill: var(--fill-color);\n",
              "    height: 32px;\n",
              "    padding: 0;\n",
              "    width: 32px;\n",
              "  }\n",
              "\n",
              "  .colab-df-quickchart:hover {\n",
              "    background-color: var(--hover-bg-color);\n",
              "    box-shadow: 0 1px 2px rgba(60, 64, 67, 0.3), 0 1px 3px 1px rgba(60, 64, 67, 0.15);\n",
              "    fill: var(--button-hover-fill-color);\n",
              "  }\n",
              "\n",
              "  .colab-df-quickchart-complete:disabled,\n",
              "  .colab-df-quickchart-complete:disabled:hover {\n",
              "    background-color: var(--disabled-bg-color);\n",
              "    fill: var(--disabled-fill-color);\n",
              "    box-shadow: none;\n",
              "  }\n",
              "\n",
              "  .colab-df-spinner {\n",
              "    border: 2px solid var(--fill-color);\n",
              "    border-color: transparent;\n",
              "    border-bottom-color: var(--fill-color);\n",
              "    animation:\n",
              "      spin 1s steps(1) infinite;\n",
              "  }\n",
              "\n",
              "  @keyframes spin {\n",
              "    0% {\n",
              "      border-color: transparent;\n",
              "      border-bottom-color: var(--fill-color);\n",
              "      border-left-color: var(--fill-color);\n",
              "    }\n",
              "    20% {\n",
              "      border-color: transparent;\n",
              "      border-left-color: var(--fill-color);\n",
              "      border-top-color: var(--fill-color);\n",
              "    }\n",
              "    30% {\n",
              "      border-color: transparent;\n",
              "      border-left-color: var(--fill-color);\n",
              "      border-top-color: var(--fill-color);\n",
              "      border-right-color: var(--fill-color);\n",
              "    }\n",
              "    40% {\n",
              "      border-color: transparent;\n",
              "      border-right-color: var(--fill-color);\n",
              "      border-top-color: var(--fill-color);\n",
              "    }\n",
              "    60% {\n",
              "      border-color: transparent;\n",
              "      border-right-color: var(--fill-color);\n",
              "    }\n",
              "    80% {\n",
              "      border-color: transparent;\n",
              "      border-right-color: var(--fill-color);\n",
              "      border-bottom-color: var(--fill-color);\n",
              "    }\n",
              "    90% {\n",
              "      border-color: transparent;\n",
              "      border-bottom-color: var(--fill-color);\n",
              "    }\n",
              "  }\n",
              "</style>\n",
              "\n",
              "  <script>\n",
              "    async function quickchart(key) {\n",
              "      const quickchartButtonEl =\n",
              "        document.querySelector('#' + key + ' button');\n",
              "      quickchartButtonEl.disabled = true;  // To prevent multiple clicks.\n",
              "      quickchartButtonEl.classList.add('colab-df-spinner');\n",
              "      try {\n",
              "        const charts = await google.colab.kernel.invokeFunction(\n",
              "            'suggestCharts', [key], {});\n",
              "      } catch (error) {\n",
              "        console.error('Error during call to suggestCharts:', error);\n",
              "      }\n",
              "      quickchartButtonEl.classList.remove('colab-df-spinner');\n",
              "      quickchartButtonEl.classList.add('colab-df-quickchart-complete');\n",
              "    }\n",
              "    (() => {\n",
              "      let quickchartButtonEl =\n",
              "        document.querySelector('#df-df0e6a78-f4be-4452-829d-73c30713f6e7 button');\n",
              "      quickchartButtonEl.style.display =\n",
              "        google.colab.kernel.accessAllowed ? 'block' : 'none';\n",
              "    })();\n",
              "  </script>\n",
              "</div>\n",
              "\n",
              "  <div id=\"id_9c063cf4-5db6-418e-a0be-406f0f088dab\">\n",
              "    <style>\n",
              "      .colab-df-generate {\n",
              "        background-color: #E8F0FE;\n",
              "        border: none;\n",
              "        border-radius: 50%;\n",
              "        cursor: pointer;\n",
              "        display: none;\n",
              "        fill: #1967D2;\n",
              "        height: 32px;\n",
              "        padding: 0 0 0 0;\n",
              "        width: 32px;\n",
              "      }\n",
              "\n",
              "      .colab-df-generate:hover {\n",
              "        background-color: #E2EBFA;\n",
              "        box-shadow: 0px 1px 2px rgba(60, 64, 67, 0.3), 0px 1px 3px 1px rgba(60, 64, 67, 0.15);\n",
              "        fill: #174EA6;\n",
              "      }\n",
              "\n",
              "      [theme=dark] .colab-df-generate {\n",
              "        background-color: #3B4455;\n",
              "        fill: #D2E3FC;\n",
              "      }\n",
              "\n",
              "      [theme=dark] .colab-df-generate:hover {\n",
              "        background-color: #434B5C;\n",
              "        box-shadow: 0px 1px 3px 1px rgba(0, 0, 0, 0.15);\n",
              "        filter: drop-shadow(0px 1px 2px rgba(0, 0, 0, 0.3));\n",
              "        fill: #FFFFFF;\n",
              "      }\n",
              "    </style>\n",
              "    <button class=\"colab-df-generate\" onclick=\"generateWithVariable('data')\"\n",
              "            title=\"Generate code using this dataframe.\"\n",
              "            style=\"display:none;\">\n",
              "\n",
              "  <svg xmlns=\"http://www.w3.org/2000/svg\" height=\"24px\"viewBox=\"0 0 24 24\"\n",
              "       width=\"24px\">\n",
              "    <path d=\"M7,19H8.4L18.45,9,17,7.55,7,17.6ZM5,21V16.75L18.45,3.32a2,2,0,0,1,2.83,0l1.4,1.43a1.91,1.91,0,0,1,.58,1.4,1.91,1.91,0,0,1-.58,1.4L9.25,21ZM18.45,9,17,7.55Zm-12,3A5.31,5.31,0,0,0,4.9,8.1,5.31,5.31,0,0,0,1,6.5,5.31,5.31,0,0,0,4.9,4.9,5.31,5.31,0,0,0,6.5,1,5.31,5.31,0,0,0,8.1,4.9,5.31,5.31,0,0,0,12,6.5,5.46,5.46,0,0,0,6.5,12Z\"/>\n",
              "  </svg>\n",
              "    </button>\n",
              "    <script>\n",
              "      (() => {\n",
              "      const buttonEl =\n",
              "        document.querySelector('#id_9c063cf4-5db6-418e-a0be-406f0f088dab button.colab-df-generate');\n",
              "      buttonEl.style.display =\n",
              "        google.colab.kernel.accessAllowed ? 'block' : 'none';\n",
              "\n",
              "      buttonEl.onclick = () => {\n",
              "        google.colab.notebook.generateWithVariable('data');\n",
              "      }\n",
              "      })();\n",
              "    </script>\n",
              "  </div>\n",
              "\n",
              "    </div>\n",
              "  </div>\n"
            ],
            "text/plain": [
              "         channel1  channel2  channel3  channel4  channel5  channel6  channel7  \\\n",
              "2287     -0.00001   0.00000  -0.00001   0.00000   0.00000  -0.00001  -0.00001   \n",
              "2288     -0.00001  -0.00002   0.00000  -0.00001  -0.00001  -0.00001  -0.00003   \n",
              "2289     -0.00001  -0.00002   0.00000  -0.00001  -0.00001  -0.00001  -0.00003   \n",
              "2290     -0.00001  -0.00002   0.00000  -0.00001  -0.00001  -0.00001  -0.00003   \n",
              "2291     -0.00001  -0.00002   0.00000  -0.00001  -0.00001  -0.00001  -0.00003   \n",
              "...           ...       ...       ...       ...       ...       ...       ...   \n",
              "4237207   0.00009   0.00001   0.00003   0.00001  -0.00003  -0.00008   0.00004   \n",
              "4237208   0.00009   0.00001   0.00003   0.00001  -0.00003  -0.00008   0.00004   \n",
              "4237209   0.00009   0.00001   0.00003   0.00001  -0.00003  -0.00008   0.00004   \n",
              "4237210   0.00014   0.00003  -0.00001   0.00001  -0.00012   0.00006  -0.00007   \n",
              "4237211   0.00014   0.00003  -0.00001   0.00001  -0.00012   0.00006  -0.00007   \n",
              "\n",
              "         channel8  class  label  \n",
              "2287      0.00001      1      1  \n",
              "2288     -0.00002      1      1  \n",
              "2289     -0.00002      1      1  \n",
              "2290     -0.00002      1      1  \n",
              "2291     -0.00002      1      1  \n",
              "...           ...    ...    ...  \n",
              "4237207   0.00000      6     36  \n",
              "4237208   0.00000      6     36  \n",
              "4237209   0.00000      6     36  \n",
              "4237210  -0.00013      6     36  \n",
              "4237211  -0.00013      6     36  \n",
              "\n",
              "[1499054 rows x 10 columns]"
            ]
          },
          "execution_count": 62,
          "metadata": {},
          "output_type": "execute_result"
        }
      ],
      "source": [
        "data     # print the data form 1 to 36 labels with 6 classes"
      ]
    },
    {
      "cell_type": "code",
      "execution_count": null,
      "metadata": {
        "colab": {
          "base_uri": "https://localhost:8080/",
          "height": 409
        },
        "id": "lp2u_zkhYEcQ",
        "outputId": "63489ac9-6f68-4dec-e542-29b3fd587952"
      },
      "outputs": [
        {
          "data": {
            "image/png": "[encoded data removed]",
            "text/plain": [
              "<Figure size 800x400 with 1 Axes>"
            ]
          },
          "metadata": {},
          "output_type": "display_data"
        }
      ],
      "source": [
        "from matplotlib import pyplot as plt\n",
        "data['channel1'].plot(kind='line', figsize=(8, 4), title='channel1')\n",
        "plt.gca().spines[['top', 'right']].set_visible(False)"
      ]
    },
    {
      "cell_type": "code",
      "execution_count": null,
      "metadata": {
        "colab": {
          "base_uri": "https://localhost:8080/",
          "height": 409
        },
        "id": "u6_5l717YcY8",
        "outputId": "636fb6c6-e31d-48b9-aa0e-9d58fac4bf4a"
      },
      "outputs": [
        {
          "data": {
            "image/png": "[encoded data removed]",
            "text/plain": [
              "<Figure size 800x400 with 1 Axes>"
            ]
          },
          "metadata": {},
          "output_type": "display_data"
        }
      ],
      "source": [
        "from matplotlib import pyplot as plt\n",
        "data['channel2'].plot(kind='line', figsize=(8, 4), title='channel2')\n",
        "plt.gca().spines[['top', 'right']].set_visible(False)"
      ]
    },
    {
      "cell_type": "code",
      "execution_count": null,
      "metadata": {
        "colab": {
          "base_uri": "https://localhost:8080/"
        },
        "id": "UI7K9jtPmcAL",
        "outputId": "48358b4b-184b-4ba0-fe6f-40046d0bbd5e"
      },
      "outputs": [
        {
          "name": "stderr",
          "output_type": "stream",
          "text": [
            "<ipython-input-65-ef62ba00c612>:1: SettingWithCopyWarning: \n",
            "A value is trying to be set on a copy of a slice from a DataFrame\n",
            "\n",
            "See the caveats in the documentation: https://pandas.pydata.org/pandas-docs/stable/user_guide/indexing.html#returning-a-view-versus-a-copy\n",
            "  data.drop('label', inplace=True, axis=1)    #Delete 'label' column from DataFrame\n"
          ]
        }
      ],
      "source": [
        "data.drop('label', inplace=True, axis=1)    #Delete 'label' column from DataFrame"
      ]
    },
    {
      "cell_type": "code",
      "execution_count": null,
      "metadata": {
        "colab": {
          "base_uri": "https://localhost:8080/"
        },
        "id": "tXCiJHfgmcAM",
        "outputId": "e23427b7-a909-4174-e7b6-6aea986ee899"
      },
      "outputs": [
        {
          "name": "stdout",
          "output_type": "stream",
          "text": [
            "<class 'pandas.core.frame.DataFrame'>\n",
            "Int64Index: 1499054 entries, 2287 to 4237211\n",
            "Data columns (total 9 columns):\n",
            " #   Column    Non-Null Count    Dtype  \n",
            "---  ------    --------------    -----  \n",
            " 0   channel1  1499054 non-null  float64\n",
            " 1   channel2  1499054 non-null  float64\n",
            " 2   channel3  1499054 non-null  float64\n",
            " 3   channel4  1499054 non-null  float64\n",
            " 4   channel5  1499054 non-null  float64\n",
            " 5   channel6  1499054 non-null  float64\n",
            " 6   channel7  1499054 non-null  float64\n",
            " 7   channel8  1499054 non-null  float64\n",
            " 8   class     1499054 non-null  int64  \n",
            "dtypes: float64(8), int64(1)\n",
            "memory usage: 114.4 MB\n"
          ]
        }
      ],
      "source": [
        "data.info()"
      ]
    },
    {
      "cell_type": "markdown",
      "metadata": {
        "id": "o5okNG8jmcAM"
      },
      "source": [
        "# ***NORMALIZE PROCESS***"
      ]
    },
    {
      "cell_type": "code",
      "execution_count": null,
      "metadata": {
        "colab": {
          "base_uri": "https://localhost:8080/"
        },
        "id": "9QvyskxtmcAQ",
        "outputId": "df3d3cce-f2a4-41b8-b314-d08959e52e7e"
      },
      "outputs": [
        {
          "name": "stdout",
          "output_type": "stream",
          "text": [
            "--Return--\n",
            "None\n",
            "> \u001b[0;32m<ipython-input-67-8618d830c13d>\u001b[0m(1)\u001b[0;36m<cell line: 1>\u001b[0;34m()\u001b[0m\n",
            "\u001b[0;32m----> 1 \u001b[0;31m\u001b[0mpdb\u001b[0m\u001b[0;34m.\u001b[0m\u001b[0mset_trace\u001b[0m\u001b[0;34m(\u001b[0m\u001b[0;34m)\u001b[0m    \u001b[0;31m# debuggere trace\u001b[0m\u001b[0;34m\u001b[0m\u001b[0;34m\u001b[0m\u001b[0m\n",
            "\u001b[0m\u001b[0;32m      2 \u001b[0;31m\u001b[0;32mdef\u001b[0m \u001b[0mnormalized\u001b[0m\u001b[0;34m(\u001b[0m\u001b[0mdata\u001b[0m\u001b[0;34m)\u001b[0m\u001b[0;34m:\u001b[0m\u001b[0;34m\u001b[0m\u001b[0;34m\u001b[0m\u001b[0m\n",
            "\u001b[0m\u001b[0;32m      3 \u001b[0;31m    \u001b[0mmin_value\u001b[0m \u001b[0;34m=\u001b[0m \u001b[0mnp\u001b[0m\u001b[0;34m.\u001b[0m\u001b[0mmin\u001b[0m\u001b[0;34m(\u001b[0m\u001b[0mdata\u001b[0m\u001b[0;34m)\u001b[0m\u001b[0;34m\u001b[0m\u001b[0;34m\u001b[0m\u001b[0m\n",
            "\u001b[0m\u001b[0;32m      4 \u001b[0;31m    \u001b[0mmax_value\u001b[0m \u001b[0;34m=\u001b[0m \u001b[0mnp\u001b[0m\u001b[0;34m.\u001b[0m\u001b[0mmax\u001b[0m\u001b[0;34m(\u001b[0m\u001b[0mdata\u001b[0m\u001b[0;34m)\u001b[0m\u001b[0;34m\u001b[0m\u001b[0;34m\u001b[0m\u001b[0m\n",
            "\u001b[0m\u001b[0;32m      5 \u001b[0;31m    \u001b[0mnormalized_data\u001b[0m \u001b[0;34m=\u001b[0m \u001b[0;34m(\u001b[0m\u001b[0mdata\u001b[0m \u001b[0;34m-\u001b[0m \u001b[0mmin_value\u001b[0m\u001b[0;34m)\u001b[0m \u001b[0;34m/\u001b[0m \u001b[0;34m(\u001b[0m\u001b[0mmax_value\u001b[0m \u001b[0;34m-\u001b[0m \u001b[0mmin_value\u001b[0m\u001b[0;34m)\u001b[0m    \u001b[0;31m# formula to normalize the data\u001b[0m\u001b[0;34m\u001b[0m\u001b[0;34m\u001b[0m\u001b[0m\n",
            "\u001b[0m\n"
          ]
        },
        {
          "name": "stderr",
          "output_type": "stream",
          "text": [
            "/usr/local/lib/python3.10/dist-packages/numpy/core/fromnumeric.py:86: FutureWarning: In a future version, DataFrame.min(axis=None) will return a scalar min over the entire DataFrame. To retain the old behavior, use 'frame.min(axis=0)' or just 'frame.min()'\n",
            "  return reduction(axis=axis, out=out, **passkwargs)\n"
          ]
        },
        {
          "name": "stdout",
          "output_type": "stream",
          "text": [
            "channel1   -0.00128\n",
            "channel2   -0.00128\n",
            "channel3   -0.00128\n",
            "channel4   -0.00128\n",
            "channel5   -0.00128\n",
            "channel6   -0.00128\n",
            "channel7   -0.00128\n",
            "channel8   -0.00128\n",
            "class       1.00000\n",
            "dtype: float64\n"
          ]
        }
      ],
      "source": [
        "pdb.set_trace()    # debuggere trace\n",
        "def normalized(data):\n",
        "    min_value = np.min(data)\n",
        "    max_value = np.max(data)\n",
        "    normalized_data = (data - min_value) / (max_value - min_value)    # formula to normalize the data\n",
        "    return normalized_data"
      ]
    },
    {
      "cell_type": "markdown",
      "metadata": {
        "id": "qYlYr6fNcJhP"
      },
      "source": []
    },
    {
      "cell_type": "markdown",
      "metadata": {
        "id": "fdvJIxr6eIVT"
      },
      "source": [
        "# ***THE SLIDING WINDOW - CNN1***"
      ]
    },
    {
      "cell_type": "code",
      "execution_count": null,
      "metadata": {
        "id": "gQDqrFF1eIVU"
      },
      "outputs": [],
      "source": [
        "def sliding_window(data, window_size, stride):\n",
        "    windowed_data = []  # Initialize an empty list to store windowed data\n",
        "    labels = []  # Initialize an empty list to store corresponding labels\n",
        "\n",
        "    # Iterate through the data with a sliding window of specified size and stride\n",
        "    for i in range(0, len(data) - window_size + 1, stride):\n",
        "        # Extract a window of data excluding the last column (label column) and convert it to a NumPy array\n",
        "        windowed = data.iloc[i:i+window_size, :-1].values\n",
        "\n",
        "        # Extract the label from the last column of the current window\n",
        "        label = data.iloc[i+window_size-1, -1]\n",
        "\n",
        "        # Append the windowed data and its corresponding label to their respective lists\n",
        "        windowed_data.append(windowed)\n",
        "        labels.append(label)\n",
        "\n",
        "    # Convert the lists of windowed data and labels into NumPy arrays and return them\n",
        "    return np.array(windowed_data), np.array(labels)\n"
      ]
    },
    {
      "cell_type": "code",
      "execution_count": null,
      "metadata": {
        "id": "3ijZSCEkeIVU"
      },
      "outputs": [],
      "source": [
        "pdb.set_trace()    # debuggere trace\n",
        "window_size=150\n",
        "stride=30\n",
        "X, Y = sliding_window(data, 150, 30)"
      ]
    },
    {
      "cell_type": "code",
      "execution_count": null,
      "metadata": {
        "id": "v3SbjAe5eIVV"
      },
      "outputs": [],
      "source": [
        "cpdb.set_trace()    # debuggere trace\n",
        "X = normalized(X)"
      ]
    },
    {
      "cell_type": "code",
      "execution_count": null,
      "metadata": {
        "id": "5CYyfmGJeIVY"
      },
      "outputs": [],
      "source": [
        "pdb.set_trace()    # debuggere trace\n",
        "Y = Y - 1"
      ]
    },
    {
      "cell_type": "code",
      "execution_count": null,
      "metadata": {
        "id": "wqZXoIhFeIVY"
      },
      "outputs": [],
      "source": [
        "# Import the train_test_split function from the sklearn.model_selection module\n",
        "from sklearn.model_selection import train_test_split\n",
        "pdb.set_trace()    # debuggere trace\n",
        "# Split the data into training and testing sets, with 80% for training and 20% for testing\n",
        "# X and Y are assumed to be the feature matrix and target vector, respectively\n",
        "# random_state is set to 42 for reproducibility\n",
        "X_train, X_test, y_train, y_test = train_test_split(X, Y, test_size=0.2, random_state=42)\n"
      ]
    },
    {
      "cell_type": "code",
      "execution_count": null,
      "metadata": {
        "id": "gFewJyPeeIVY"
      },
      "outputs": [],
      "source": [
        "# Import necessary modules from TensorFlow\n",
        "from tensorflow.keras.models import Sequential\n",
        "from tensorflow.keras.layers import Conv1D, MaxPooling1D, Flatten, Dense\n",
        "\n",
        "def CNN_model(input_shape, num_classes):\n",
        "    model = Sequential()  # Create a Sequential model\n",
        "\n",
        "    # Convolutional layers\n",
        "    model.add(Conv1D(32, kernel_size=3, activation='relu', input_shape=input_shape))  # Add a 1D convolutional layer with 32 filters\n",
        "    model.add(MaxPooling1D(pool_size=2))  # Add a max pooling layer\n",
        "\n",
        "    model.add(Conv1D(64, kernel_size=3, activation='relu'))  # Add another 1D convolutional layer with 64 filters\n",
        "    model.add(MaxPooling1D(pool_size=2))  # Add another max pooling layer\n",
        "\n",
        "    # Flattening layer\n",
        "    model.add(Flatten())  # Flatten the output of the convolutional layers\n",
        "\n",
        "    # Fully connected layers\n",
        "    model.add(Dense(128, activation='relu'))  # Add a fully connected layer with 128 neurons and ReLU activation\n",
        "    model.add(Dense(num_classes, activation='softmax'))  # Add the output layer with softmax activation\n",
        "\n",
        "    # Compile the model\n",
        "    model.compile(optimizer='adam', loss='sparse_categorical_crossentropy', metrics=['accuracy'])  # Compile the model with Adam optimizer, sparse categorical crossentropy loss, and accuracy metric\n",
        "    model.summary()  # Print model summary\n",
        "    return model  # Return the compiled model\n"
      ]
    },
    {
      "cell_type": "code",
      "execution_count": null,
      "metadata": {
        "id": "9HjUYqxdeIVZ"
      },
      "outputs": [],
      "source": [
        "# Define the CNN model\n",
        "pdb.set_trace()    # debuggere trace\n",
        "input_shape = X_train.shape[1:]  # Set the input shape based on the features in the training data\n",
        "num_classes = len(np.unique(Y))   # Determine the number of classes based on the unique values in the target vector\n",
        "\n",
        "# Create the CNN model using the defined input shape and number of classes\n",
        "model = CNN_model(input_shape, num_classes)\n"
      ]
    },
    {
      "cell_type": "code",
      "execution_count": null,
      "metadata": {
        "id": "KHflHUEUeIVZ"
      },
      "outputs": [],
      "source": [
        "history = model.fit(X_train, y_train, epochs=10, validation_data=(X_test, y_test))"
      ]
    },
    {
      "cell_type": "code",
      "execution_count": null,
      "metadata": {
        "id": "Bf_GRyedeIVZ"
      },
      "outputs": [],
      "source": [
        "from sklearn.metrics import accuracy_score, f1_score\n",
        "pdb.set_trace()    # debuggere trace\n",
        "# make predictions on training data\n",
        "y_pred_train = model.predict(X_train)\n",
        "y_pred_train = np.argmax(y_pred_train, axis=1)  # One-hot encoding'den etiketlere dönüştür\n",
        "\n",
        "# make predictions on test data\n",
        "y_pred_test = model.predict(X_test)\n",
        "y_pred_test = np.argmax(y_pred_test, axis=1)  # One-hot encoding'den etiketlere dönüştür\n",
        "\n",
        "# calculate accuracy\n",
        "accuracy_training = accuracy_score(y_train, y_pred_train)\n",
        "accuracy_test = accuracy_score(y_test, y_pred_test)\n",
        "\n",
        "# calculate F1 score\n",
        "f1_training = f1_score(y_train, y_pred_train, average='weighted')\n",
        "f1_test = f1_score(y_test, y_pred_test, average='weighted')\n",
        "\n",
        "print(\"Training Accuracy:\", accuracy_training)\n",
        "print(\"Test Accuracy:\", accuracy_test)\n",
        "print(\"Training F1 Score:\", f1_training)\n",
        "print(\"Test F1 Score:\", f1_test)"
      ]
    },
    {
      "cell_type": "code",
      "execution_count": null,
      "metadata": {
        "id": "X9dDJoBQeIVZ"
      },
      "outputs": [],
      "source": [
        "import matplotlib.pyplot as plt\n",
        "import pdb  # Import the Python debugger module\n",
        "\n",
        "pdb.set_trace()  # Set a breakpoint for debugging\n",
        "\n",
        "# Plot training and testing loss graph\n",
        "plt.plot(history.history['loss'], label='Training Loss')  # Plot training loss\n",
        "plt.plot(history.history['val_loss'], label='Test Loss')  # Plot testing loss\n",
        "plt.xlabel('Epochs')  # Set the label for the x-axis\n",
        "plt.ylabel('Loss')  # Set the label for the y-axis\n",
        "plt.title('Training and Testing Loss')  # Set the title of the plot\n",
        "plt.legend()  # Show legend\n",
        "plt.grid(True)  # Add gridlines to the plot\n",
        "plt.show()  # Display the plot\n"
      ]
    },
    {
      "cell_type": "code",
      "execution_count": null,
      "metadata": {
        "id": "ThLW1ea6eIVZ"
      },
      "outputs": [],
      "source": [
        "# Import necessary modules\n",
        "from sklearn.metrics import confusion_matrix  # Import confusion_matrix function from sklearn.metrics\n",
        "import seaborn as sns  # Import seaborn library for visualization\n",
        "import pdb  # Import the Python debugger module\n",
        "\n",
        "pdb.set_trace()  # Set a breakpoint for debugging\n",
        "\n",
        "# Calculate confusion matrix\n",
        "conf_matrix = confusion_matrix(y_test, y_pred_test)  # Calculate confusion matrix using predicted and true labels\n",
        "\n",
        "# Plot confusion matrix\n",
        "plt.figure(figsize=(6, 6))  # Set the figure size\n",
        "sns.heatmap(conf_matrix, annot=True, fmt=\"d\", cmap=\"Blues\", xticklabels=np.unique(y_test), yticklabels=np.unique(y_test))\n",
        "# Create heatmap of confusion matrix with annotations and blue color map, with x and y labels representing unique class labels\n",
        "plt.title('Confusion Matrix (Sliding Window)')  # Set the title of the plot\n",
        "plt.xlabel('Predicted Labels')  # Set the label for the x-axis\n",
        "plt.ylabel('Real Labels')  # Set the label for the y-axis\n",
        "plt.show()  # Display the plot\n"
      ]
    },
    {
      "cell_type": "code",
      "execution_count": null,
      "metadata": {
        "id": "-b7ia9rkeIVZ"
      },
      "outputs": [],
      "source": [
        "from sklearn.metrics import classification_report\n",
        "import pdb  # Import the Python debugger module\n",
        "\n",
        "pdb.set_trace()  # Set a breakpoint for debugging\n",
        "\n",
        "# Calculate classification report\n",
        "report = classification_report(y_test, y_pred_test, target_names=[str(label) for label in np.unique(y_test)])\n",
        "\n",
        "# Print the classification report\n",
        "print(report)\n"
      ]
    },
    {
      "cell_type": "markdown",
      "metadata": {
        "id": "0McswCtxu4lO"
      },
      "source": [
        "\n",
        "\n",
        "---\n",
        "\n",
        "\n",
        "\n",
        "\n",
        "\n"
      ]
    },
    {
      "cell_type": "markdown",
      "metadata": {
        "id": "Dx8LBko2u4bR"
      },
      "source": [
        "\n",
        "---\n",
        "\n"
      ]
    },
    {
      "cell_type": "markdown",
      "metadata": {
        "id": "R9c9pDxCudHG"
      },
      "source": [
        "#***Fourier Transform - CNN2***\n",
        "\n",
        "\n"
      ]
    },
    {
      "cell_type": "code",
      "execution_count": null,
      "metadata": {
        "id": "SI6ulK_8xDWx"
      },
      "outputs": [],
      "source": [
        "import numpy as np\n",
        "from scipy.fft import fft  # Import FFT (Fast Fourier Transform) function from scipy library\n",
        "from sklearn.model_selection import train_test_split\n",
        "from sklearn.preprocessing import StandardScaler\n",
        "from tensorflow.keras.models import Sequential\n",
        "from tensorflow.keras.layers import Conv1D, MaxPooling1D, Flatten, Dense\n",
        "\n",
        "pdb.set_trace()  # Set a breakpoint for debugging\n",
        "def fourier_transform(X):\n",
        "    transformed_data = []  # Initialize an empty list to store transformed data\n",
        "\n",
        "    # Iterate through each item in the dataset\n",
        "    for item in X:\n",
        "        transformed_item = []  # Initialize an empty list to store transformed item\n",
        "\n",
        "        # Transpose the data to work with each channel separately\n",
        "        for channel in item.T:\n",
        "            # Apply FFT (Fast Fourier Transform) to each channel and calculate amplitude\n",
        "            fft_values = fft(channel)\n",
        "\n",
        "            # Append amplitude information to the transformed item list\n",
        "            transformed_item.append(np.abs(fft_values))\n",
        "\n",
        "        # Convert the transformed item list into a NumPy array and append it to the transformed data list\n",
        "        transformed_data.append(np.array(transformed_item))\n",
        "\n",
        "    # Convert the transformed data list into a NumPy array and return\n",
        "    return np.array(transformed_data)\n"
      ]
    },
    {
      "cell_type": "code",
      "execution_count": null,
      "metadata": {
        "execution": {
          "iopub.execute_input": "2024-01-12T11:23:52.18576Z",
          "iopub.status.busy": "2024-01-12T11:23:52.185327Z",
          "iopub.status.idle": "2024-01-12T11:24:01.333073Z",
          "shell.execute_reply": "2024-01-12T11:24:01.331307Z",
          "shell.execute_reply.started": "2024-01-12T11:23:52.185724Z"
        },
        "id": "r-2LonjRudHG",
        "trusted": true
      },
      "outputs": [],
      "source": [
        "# apply fourier transform\n",
        "pdb.set_trace()  # Set a breakpoint for debugging\n",
        "transformed_X = fourier_transform(X)"
      ]
    },
    {
      "cell_type": "code",
      "execution_count": null,
      "metadata": {
        "execution": {
          "iopub.execute_input": "2024-01-12T11:24:01.337466Z",
          "iopub.status.busy": "2024-01-12T11:24:01.336138Z",
          "iopub.status.idle": "2024-01-12T11:24:01.343085Z",
          "shell.execute_reply": "2024-01-12T11:24:01.341475Z",
          "shell.execute_reply.started": "2024-01-12T11:24:01.337417Z"
        },
        "id": "448rEUKsudHG",
        "trusted": true
      },
      "outputs": [],
      "source": [
        "# Transpose the transformed data to bring the channels dimension to the last axis\n",
        "\n",
        "pdb.set_trace()  # Set a breakpoint for debugging\n",
        "transposed_X = np.transpose(transformed_X, (0, 2, 1))\n"
      ]
    },
    {
      "cell_type": "code",
      "execution_count": null,
      "metadata": {
        "execution": {
          "iopub.execute_input": "2024-01-12T11:24:01.345462Z",
          "iopub.status.busy": "2024-01-12T11:24:01.345039Z",
          "iopub.status.idle": "2024-01-12T11:24:01.572597Z",
          "shell.execute_reply": "2024-01-12T11:24:01.571426Z",
          "shell.execute_reply.started": "2024-01-12T11:24:01.345428Z"
        },
        "id": "YyiMXf6IudHf",
        "trusted": true
      },
      "outputs": [],
      "source": [
        "# Split the transformed data into training and testing sets\n",
        "\n",
        "pdb.set_trace()  # Set a breakpoint for debugging\n",
        "X_train_ft, X_test_ft, y_train_ft, y_test_ft = train_test_split(transposed_X, Y, test_size=0.2, random_state=42)\n"
      ]
    },
    {
      "cell_type": "code",
      "execution_count": null,
      "metadata": {
        "execution": {
          "iopub.execute_input": "2024-01-12T11:24:01.57562Z",
          "iopub.status.busy": "2024-01-12T11:24:01.575122Z",
          "iopub.status.idle": "2024-01-12T11:24:01.707571Z",
          "shell.execute_reply": "2024-01-12T11:24:01.706575Z",
          "shell.execute_reply.started": "2024-01-12T11:24:01.575574Z"
        },
        "id": "AKShs766udHg",
        "trusted": true
      },
      "outputs": [],
      "source": [
        "# Define CNN model\n",
        "pdb.set_trace()  # Set a breakpoint for debugging\n",
        "input_shape = X_train_ft.shape[1:]  # Determine input shape based on transformed data\n",
        "num_classes = len(np.unique(Y))   # Determine the number of classes based on unique values in the target vector\n",
        "\n",
        "# Create CNN model using the determined input shape and number of classes\n",
        "model_ft = CNN_model(input_shape, num_classes)\n"
      ]
    },
    {
      "cell_type": "code",
      "execution_count": null,
      "metadata": {
        "execution": {
          "iopub.execute_input": "2024-01-12T11:24:07.008839Z",
          "iopub.status.busy": "2024-01-12T11:24:07.008347Z",
          "iopub.status.idle": "2024-01-12T11:26:37.185176Z",
          "shell.execute_reply": "2024-01-12T11:26:37.183984Z",
          "shell.execute_reply.started": "2024-01-12T11:24:07.008805Z"
        },
        "id": "Tlt_IiorudHg",
        "trusted": true
      },
      "outputs": [],
      "source": [
        "# Train the CNN model on the transformed training data for 10 epochs, using the transformed validation data for evaluation\n",
        "pdb.set_trace()  # Set a breakpoint for debugging\n",
        "history_ft = model_ft.fit(X_train_ft, y_train_ft, epochs=10, validation_data=(X_test_ft, y_test_ft))\n"
      ]
    },
    {
      "cell_type": "code",
      "execution_count": null,
      "metadata": {
        "execution": {
          "iopub.execute_input": "2024-01-12T11:26:37.188141Z",
          "iopub.status.busy": "2024-01-12T11:26:37.187746Z",
          "iopub.status.idle": "2024-01-12T11:26:46.143805Z",
          "shell.execute_reply": "2024-01-12T11:26:46.142139Z",
          "shell.execute_reply.started": "2024-01-12T11:26:37.188107Z"
        },
        "id": "s8yjtiFCudHg",
        "trusted": true
      },
      "outputs": [],
      "source": [
        "from sklearn.metrics import accuracy_score, f1_score\n",
        "\n",
        "pdb.set_trace()  # Set a breakpoint for debugging\n",
        "# Make predictions on training data\n",
        "y_pred_train_ft = model_ft.predict(X_train_ft)\n",
        "y_pred_train_ft = np.argmax(y_pred_train_ft, axis=1)  # Convert predictions from one-hot encoding to class labels\n",
        "\n",
        "# Make predictions on test data\n",
        "y_pred_test_ft = model_ft.predict(X_test_ft)\n",
        "y_pred_test_ft = np.argmax(y_pred_test_ft, axis=1)  # Convert predictions from one-hot encoding to class labels\n",
        "\n",
        "# Calculate accuracy\n",
        "accuracy_training_ft = accuracy_score(y_train_ft, y_pred_train_ft)  # Calculate accuracy on training data\n",
        "accuracy_test_ft= accuracy_score(y_test_ft, y_pred_test_ft)  # Calculate accuracy on test data\n",
        "\n",
        "# Calculate F1 score\n",
        "f1_training_ft = f1_score(y_train_ft, y_pred_train_ft, average='weighted')  # Calculate F1 score on training data\n",
        "f1_test_ft = f1_score(y_test_ft, y_pred_test_ft, average='weighted')  # Calculate F1 score on test data\n",
        "\n",
        "# Print accuracy and F1 score\n",
        "print(\"Training Accuracy FT:\", accuracy_training_ft)  # Print training accuracy\n",
        "print(\"Test Accuracy FT:\", accuracy_test_ft)  # Print test accuracy\n",
        "print(\"Training F1 Score FT:\", f1_training_ft)  # Print training F1 score\n",
        "print(\"Test F1 Score FT:\", f1_test_ft)  # Print test F1 score\n"
      ]
    },
    {
      "cell_type": "code",
      "execution_count": null,
      "metadata": {
        "id": "PvFIaFDz0VLe"
      },
      "outputs": [],
      "source": [
        "from sklearn.metrics import confusion_matrix\n",
        "import seaborn as sns\n",
        "pdb.set_trace()  # Set a breakpoint for debugging\n",
        "# Generate confusion matrix\n",
        "cm_ft = confusion_matrix(y_test, y_pred_test_ft)\n",
        "\n",
        "# Plot confusion matrix\n",
        "plt.figure(figsize=(6, 6))  # Set the figure size\n",
        "sns.heatmap(cm_ft, annot=True, fmt=\"d\", cmap=\"Blues\", xticklabels=np.unique(y_test), yticklabels=np.unique(y_test))\n",
        "# Create heatmap of confusion matrix with annotations and blue color map, with x and y labels representing unique class labels\n",
        "plt.title('Confusion Matrix FT')  # Set the title of the plot\n",
        "plt.xlabel('Predicted Labels FT')  # Set the label for the x-axis\n",
        "plt.ylabel('Real Labels FT')  # Set the label for the y-axis\n",
        "plt.show()  # Display the plot\n"
      ]
    },
    {
      "cell_type": "code",
      "execution_count": null,
      "metadata": {
        "execution": {
          "iopub.execute_input": "2024-01-12T11:26:47.135698Z",
          "iopub.status.busy": "2024-01-12T11:26:47.135246Z",
          "iopub.status.idle": "2024-01-12T11:26:47.1736Z",
          "shell.execute_reply": "2024-01-12T11:26:47.172138Z",
          "shell.execute_reply.started": "2024-01-12T11:26:47.135663Z"
        },
        "id": "tnHPVL8YudHh",
        "trusted": true
      },
      "outputs": [],
      "source": [
        "from sklearn.metrics import classification_report\n",
        "pdb.set_trace()  # Set a breakpoint for debugging\n",
        "# Generate classification report including accuracy and F1 score for each class\n",
        "report_ft = classification_report(y_test, y_pred_test_ft, target_names=[str(label) for label in np.unique(y_test)])\n",
        "\n",
        "# Print the classification report\n",
        "print(report_ft)\n"
      ]
    },
    {
      "cell_type": "markdown",
      "metadata": {
        "id": "QfmE1x951Ulb"
      },
      "source": [
        "# ***Root Mean Square (RMS) - CNN3***"
      ]
    },
    {
      "cell_type": "code",
      "execution_count": null,
      "metadata": {
        "execution": {
          "iopub.execute_input": "2024-01-12T11:40:52.066992Z",
          "iopub.status.busy": "2024-01-12T11:40:52.066562Z",
          "iopub.status.idle": "2024-01-12T11:40:52.074958Z",
          "shell.execute_reply": "2024-01-12T11:40:52.073604Z",
          "shell.execute_reply.started": "2024-01-12T11:40:52.066959Z"
        },
        "id": "OJG3Nxm11Ulc",
        "trusted": true
      },
      "outputs": [],
      "source": [
        "# Set a breakpoint for debugging\n",
        "pdb.set_trace()\n",
        "\n",
        "# Print the shape of X\n",
        "print(X.shape)\n"
      ]
    },
    {
      "cell_type": "code",
      "execution_count": null,
      "metadata": {
        "execution": {
          "iopub.execute_input": "2024-01-12T11:41:18.337529Z",
          "iopub.status.busy": "2024-01-12T11:41:18.337066Z",
          "iopub.status.idle": "2024-01-12T11:41:18.758358Z",
          "shell.execute_reply": "2024-01-12T11:41:18.756125Z",
          "shell.execute_reply.started": "2024-01-12T11:41:18.337495Z"
        },
        "id": "-zzOJKj_1Ulc",
        "trusted": true
      },
      "outputs": [],
      "source": [
        "import numpy as np\n",
        "pdb.set_trace()  # Set a breakpoint for debugging\n",
        "\n",
        "# Apply Root Mean Square (RMS) calculation across each sample in X\n",
        "rms_data = np.sqrt(np.mean(np.square(X), axis=1))\n",
        "c"
      ]
    },
    {
      "cell_type": "code",
      "execution_count": null,
      "metadata": {
        "execution": {
          "iopub.execute_input": "2024-01-12T11:41:22.381775Z",
          "iopub.status.busy": "2024-01-12T11:41:22.381327Z",
          "iopub.status.idle": "2024-01-12T11:41:22.387972Z",
          "shell.execute_reply": "2024-01-12T11:41:22.387123Z",
          "shell.execute_reply.started": "2024-01-12T11:41:22.381744Z"
        },
        "id": "bCrYqh-81Uld",
        "trusted": true
      },
      "outputs": [],
      "source": [
        "# Print the shape of rms_data\n",
        "print(rms_data.shape)\n"
      ]
    },
    {
      "cell_type": "code",
      "execution_count": null,
      "metadata": {
        "execution": {
          "iopub.execute_input": "2024-01-12T11:41:42.244331Z",
          "iopub.status.busy": "2024-01-12T11:41:42.24388Z",
          "iopub.status.idle": "2024-01-12T11:41:42.250406Z",
          "shell.execute_reply": "2024-01-12T11:41:42.249218Z",
          "shell.execute_reply.started": "2024-01-12T11:41:42.244296Z"
        },
        "id": "kxFXaMWw1Uld",
        "trusted": true
      },
      "outputs": [],
      "source": [
        "# making data three-dimensional\n",
        "rms_data = np.expand_dims(rms_data, axis=-1)\n",
        "print(rms_data)"
      ]
    },
    {
      "cell_type": "code",
      "execution_count": null,
      "metadata": {
        "execution": {
          "iopub.execute_input": "2024-01-12T11:41:50.501212Z",
          "iopub.status.busy": "2024-01-12T11:41:50.50076Z",
          "iopub.status.idle": "2024-01-12T11:41:50.509578Z",
          "shell.execute_reply": "2024-01-12T11:41:50.507942Z",
          "shell.execute_reply.started": "2024-01-12T11:41:50.501177Z"
        },
        "id": "oeJZju0F1Uld",
        "trusted": true
      },
      "outputs": [],
      "source": [
        "# Print the shape of rms_data\n",
        "print(rms_data.shape)\n"
      ]
    },
    {
      "cell_type": "code",
      "execution_count": null,
      "metadata": {
        "execution": {
          "iopub.execute_input": "2024-01-12T11:42:06.102739Z",
          "iopub.status.busy": "2024-01-12T11:42:06.102283Z",
          "iopub.status.idle": "2024-01-12T11:42:06.109392Z",
          "shell.execute_reply": "2024-01-12T11:42:06.108126Z",
          "shell.execute_reply.started": "2024-01-12T11:42:06.102705Z"
        },
        "id": "mHcjOjQ41Uld",
        "trusted": true
      },
      "outputs": [],
      "source": [
        "# Check the shape of the original data and the data after RMS processing\n",
        "print(\"Original shape:\", X.shape)\n",
        "print(\"Shape After RMS Processing:\", rms_data.shape)\n"
      ]
    },
    {
      "cell_type": "code",
      "execution_count": null,
      "metadata": {
        "execution": {
          "iopub.execute_input": "2024-01-12T11:42:16.050895Z",
          "iopub.status.busy": "2024-01-12T11:42:16.050481Z",
          "iopub.status.idle": "2024-01-12T11:42:16.065464Z",
          "shell.execute_reply": "2024-01-12T11:42:16.063808Z",
          "shell.execute_reply.started": "2024-01-12T11:42:16.050865Z"
        },
        "id": "OV51s1Oy1Ule",
        "trusted": true
      },
      "outputs": [],
      "source": [
        "# Split the data into training and testing sets after RMS processing\n",
        "pdb.set_trace()  # Set a breakpoint for debugging\n",
        "X_train_rms, X_test_rms, y_train_rms, y_test_rms = train_test_split(rms_data, Y, test_size=0.2, random_state=42)\n"
      ]
    },
    {
      "cell_type": "code",
      "execution_count": null,
      "metadata": {
        "execution": {
          "iopub.execute_input": "2024-01-12T11:42:33.39668Z",
          "iopub.status.busy": "2024-01-12T11:42:33.396209Z",
          "iopub.status.idle": "2024-01-12T11:42:33.407788Z",
          "shell.execute_reply": "2024-01-12T11:42:33.405957Z",
          "shell.execute_reply.started": "2024-01-12T11:42:33.396646Z"
        },
        "id": "qIG0wC5b1Ule",
        "trusted": true
      },
      "outputs": [],
      "source": [
        "from tensorflow.keras.models import Sequential  # Import Sequential model from TensorFlow Keras\n",
        "from tensorflow.keras.layers import Conv1D, MaxPooling1D, Flatten, Dense  # Import necessary layers from TensorFlow Keras\n",
        "pdb.set_trace()  # Set a breakpoint for debugging\n",
        "\n",
        "def CNN_model_rms(input_shape, num_classes):\n",
        "    model = Sequential()  # Create a Sequential model\n",
        "\n",
        "    # Convolutional Layers\n",
        "    model.add(Conv1D(32, kernel_size=3, activation='relu', input_shape=input_shape))  # Add a 1D convolutional layer with 32 filters and ReLU activation\n",
        "    model.add(MaxPooling1D(pool_size=2))  # Add a max pooling layer\n",
        "\n",
        "    model.add(Conv1D(64, kernel_size=3, activation='relu'))  # Add another 1D convolutional layer with 64 filters and ReLU activation\n",
        "    model.add(MaxPooling1D(pool_size=1))  # Add another max pooling layer\n",
        "\n",
        "    # Flattening Layer\n",
        "    model.add(Flatten())  # Flatten the output of the convolutional layers\n",
        "\n",
        "    # Fully Connected Layers\n",
        "    model.add(Dense(128, activation='relu'))  # Add a fully connected layer with 128 neurons and ReLU activation\n",
        "    model.add(Dense(num_classes, activation='softmax'))  # Add the output layer with softmax activation\n",
        "\n",
        "    # Compile the model\n",
        "    model.compile(optimizer='adam', loss='sparse_categorical_crossentropy', metrics=['accuracy'])  # Compile the model with Adam optimizer, sparse categorical crossentropy loss, and accuracy metric\n",
        "\n",
        "    # Print model summary\n",
        "    model.summary()  # Print model summary\n",
        "\n",
        "    return model  # Return the compiled model\n"
      ]
    },
    {
      "cell_type": "code",
      "execution_count": null,
      "metadata": {
        "execution": {
          "iopub.execute_input": "2024-01-12T11:42:22.445036Z",
          "iopub.status.busy": "2024-01-12T11:42:22.444567Z",
          "iopub.status.idle": "2024-01-12T11:42:22.453725Z",
          "shell.execute_reply": "2024-01-12T11:42:22.452309Z",
          "shell.execute_reply.started": "2024-01-12T11:42:22.445003Z"
        },
        "id": "_98De7I21Ule",
        "trusted": true
      },
      "outputs": [],
      "source": [
        "# Print the shape of X_train_rms\n",
        "print(X_train_rms.shape)\n"
      ]
    },
    {
      "cell_type": "code",
      "execution_count": null,
      "metadata": {
        "execution": {
          "iopub.execute_input": "2024-01-12T11:42:38.247697Z",
          "iopub.status.busy": "2024-01-12T11:42:38.247243Z",
          "iopub.status.idle": "2024-01-12T11:42:38.389175Z",
          "shell.execute_reply": "2024-01-12T11:42:38.387707Z",
          "shell.execute_reply.started": "2024-01-12T11:42:38.247662Z"
        },
        "id": "wcanH__B1Ulf",
        "trusted": true
      },
      "outputs": [],
      "source": [
        "# Define CNN model\n",
        "input_shape_rms = X_train_rms.shape[1:]  # Determine input shape based on the processed data with RMS\n",
        "num_classes_rms = len(np.unique(Y))   # Determine the number of classes based on unique values in the target vector\n",
        "\n",
        "# Adjust input shape to match the expected format for Conv1D layer\n",
        "input_shape_rms = (input_shape_rms[0], 1)  # Convert input shape to (input_shape[0], 1)\n",
        "\n",
        "# Create CNN model using the adjusted input shape and number of classes\n",
        "model_rms = CNN_model_rms(input_shape_rms, num_classes_rms)\n"
      ]
    },
    {
      "cell_type": "code",
      "execution_count": null,
      "metadata": {
        "execution": {
          "iopub.execute_input": "2024-01-12T11:42:42.00304Z",
          "iopub.status.busy": "2024-01-12T11:42:42.002551Z",
          "iopub.status.idle": "2024-01-12T11:43:19.103716Z",
          "shell.execute_reply": "2024-01-12T11:43:19.102671Z",
          "shell.execute_reply.started": "2024-01-12T11:42:42.002999Z"
        },
        "id": "Y-VoqCet1Ulf",
        "trusted": true
      },
      "outputs": [],
      "source": [
        "# Train the CNN model on the data processed with RMS for 10 epochs, using the RMS processed validation data for evaluation\n",
        "history_rms = model_rms.fit(X_train_rms, y_train_rms, epochs=10, validation_data=(X_test_rms, y_test_rms))\n"
      ]
    },
    {
      "cell_type": "code",
      "execution_count": null,
      "metadata": {
        "execution": {
          "iopub.execute_input": "2024-01-12T11:43:24.457497Z",
          "iopub.status.busy": "2024-01-12T11:43:24.456073Z",
          "iopub.status.idle": "2024-01-12T11:43:27.380018Z",
          "shell.execute_reply": "2024-01-12T11:43:27.378235Z",
          "shell.execute_reply.started": "2024-01-12T11:43:24.457451Z"
        },
        "id": "OtgtWDgC1Ulg",
        "trusted": true
      },
      "outputs": [],
      "source": [
        "from sklearn.metrics import accuracy_score, f1_score  # Import necessary metrics\n",
        "\n",
        "# Predict on training data\n",
        "y_pred_train_rms = model_rms.predict(X_train_rms)  # Make predictions on training data\n",
        "y_pred_train_rms = np.argmax(y_pred_train_rms, axis=1)  # Convert predictions from one-hot encoding to class labels\n",
        "\n",
        "# Predict on test data\n",
        "y_pred_test_rms = model_rms.predict(X_test_rms)  # Make predictions on test data\n",
        "y_pred_test_rms = np.argmax(y_pred_test_rms, axis=1)  # Convert predictions from one-hot encoding to class labels\n",
        "\n",
        "# Calculate accuracy\n",
        "accuracy_training_rms = accuracy_score(y_train_rms, y_pred_train_rms)  # Calculate accuracy on training data\n",
        "accuracy_test_rms = accuracy_score(y_test_rms, y_pred_test_rms)  # Calculate accuracy on test data\n",
        "\n",
        "# Calculate F1 score\n",
        "f1_training_rms = f1_score(y_train_rms, y_pred_train_rms, average='weighted')  # Calculate F1 score on training data\n",
        "f1_test_rms = f1_score(y_test_rms, y_pred_test_rms, average='weighted')  # Calculate F1 score on test data\n",
        "\n",
        "# Print accuracy and F1 score\n",
        "print(\"Training Accuracy RMS:\", accuracy_training_rms)  # Print training accuracy\n",
        "print(\"Test Accuracy RMS:\", accuracy_test_rms)  # Print test accuracy\n",
        "print(\"Training F1 Score RMS:\", f1_training_rms)  # Print training F1 score\n",
        "print(\"Test F1 Score RMS:\", f1_test_rms)  # Print test F1 score\n"
      ]
    },
    {
      "cell_type": "code",
      "execution_count": null,
      "metadata": {
        "execution": {
          "iopub.execute_input": "2024-01-12T11:43:30.401274Z",
          "iopub.status.busy": "2024-01-12T11:43:30.400829Z",
          "iopub.status.idle": "2024-01-12T11:43:30.439313Z",
          "shell.execute_reply": "2024-01-12T11:43:30.438363Z",
          "shell.execute_reply.started": "2024-01-12T11:43:30.401227Z"
        },
        "id": "XO5OY5z61Ulg",
        "trusted": true
      },
      "outputs": [],
      "source": [
        "from sklearn.metrics import classification_report  # Import classification_report function\n",
        "pdb.set_trace()  # Set a breakpoint for debugging\n",
        "# Generate classification report including accuracy and F1 score for each class\n",
        "report_rms = classification_report(y_test, y_pred_test_rms, target_names=[str(label) for label in np.unique(y_test)])\n",
        "\n",
        "# Print the classification report\n",
        "print(report_rms)\n"
      ]
    },
    {
      "cell_type": "code",
      "execution_count": null,
      "metadata": {
        "execution": {
          "iopub.execute_input": "2024-01-12T11:43:33.048229Z",
          "iopub.status.busy": "2024-01-12T11:43:33.047009Z",
          "iopub.status.idle": "2024-01-12T11:43:33.558907Z",
          "shell.execute_reply": "2024-01-12T11:43:33.557757Z",
          "shell.execute_reply.started": "2024-01-12T11:43:33.048175Z"
        },
        "id": "pgdNGGt71Ulh",
        "trusted": true
      },
      "outputs": [],
      "source": [
        "from sklearn.metrics import confusion_matrix  # Import confusion_matrix function\n",
        "import seaborn as sns  # Import seaborn library for visualization\n",
        "pdb.set_trace()  # Set a breakpoint for debugging\n",
        "# Generate confusion matrix\n",
        "cm_rms = confusion_matrix(y_test, y_pred_test_rms)\n",
        "\n",
        "# Plot confusion matrix\n",
        "plt.figure(figsize=(6, 6))  # Set the figure size\n",
        "sns.heatmap(cm_rms, annot=True, fmt=\"d\", cmap=\"Blues\", xticklabels=np.unique(y_test), yticklabels=np.unique(y_test))\n",
        "# Create heatmap of confusion matrix with annotations and blue color map, with x and y labels representing unique class labels\n",
        "plt.title('Confusion Matrix RMS')  # Set the title of the plot\n",
        "plt.xlabel('Predicted Labels RMS')  # Set the label for the x-axis\n",
        "plt.ylabel('Real Labels RMS')  # Set the label for the y-axis\n",
        "plt.show()  # Display the plot\n"
      ]
    },
    {
      "cell_type": "markdown",
      "metadata": {
        "id": "281N90-eJO2c"
      },
      "source": [
        "***New Method***\n"
      ]
    },
    {
      "cell_type": "code",
      "execution_count": null,
      "metadata": {
        "id": "Aj7yX-buJOcm"
      },
      "outputs": [],
      "source": []
    }
  ],
  "metadata": {
    "colab": {
      "provenance": []
    },
    "kernelspec": {
      "display_name": "Python 3",
      "name": "python3"
    },
    "language_info": {
      "codemirror_mode": {
        "name": "ipython",
        "version": 3
      },
      "file_extension": ".py",
      "mimetype": "text/x-python",
      "name": "python",
      "nbconvert_exporter": "python",
      "pygments_lexer": "ipython3",
      "version": "3.12.2"
    }
  },
  "nbformat": 4,
  "nbformat_minor": 0
}
